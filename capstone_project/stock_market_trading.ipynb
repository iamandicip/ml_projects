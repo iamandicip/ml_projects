{
 "cells": [
  {
   "cell_type": "code",
   "execution_count": 1,
   "metadata": {
    "collapsed": false,
    "deletable": true,
    "editable": true
   },
   "outputs": [],
   "source": [
    "import pandas as pd\n",
    "import datetime\n",
    "import numpy as np\n",
    "import matplotlib as plt\n",
    "import stock_utils as su\n",
    "\n",
    "from signaller import Signaller\n",
    "from trading_algorithm import TradingAlgorithm\n",
    "\n",
    "from sklearn.externals import joblib\n",
    "\n",
    "%matplotlib inline"
   ]
  },
  {
   "cell_type": "markdown",
   "metadata": {
    "deletable": true,
    "editable": true
   },
   "source": [
    "## Choose a ticker symbol and generate a dataset with selected new features for it"
   ]
  },
  {
   "cell_type": "code",
   "execution_count": 2,
   "metadata": {
    "collapsed": true,
    "deletable": true,
    "editable": true
   },
   "outputs": [],
   "source": [
    "#create a dataset for AAPL\n",
    "rs = 42 # random state\n",
    "tickers = ['AAPL', 'XOM', 'JNJ']\n",
    "symbol = tickers[0]\n",
    "window = 5\n",
    "look_ahead = 1\n",
    "look_behind = 3\n",
    "\n",
    "start_date = datetime.datetime(2017, 1, 1)\n",
    "end_date = datetime.datetime(2017, 10, 30)"
   ]
  },
  {
   "cell_type": "markdown",
   "metadata": {
    "deletable": true,
    "editable": true
   },
   "source": [
    "## Load saved models"
   ]
  },
  {
   "cell_type": "code",
   "execution_count": 3,
   "metadata": {
    "collapsed": false,
    "deletable": true,
    "editable": true,
    "scrolled": false
   },
   "outputs": [
    {
     "name": "stdout",
     "output_type": "stream",
     "text": [
      "Loading model ElasticNet.pkl\n",
      "Loading model LinearRegression.pkl\n",
      "Loading model Lasso.pkl\n",
      "Loading model Ridge.pkl\n"
     ]
    }
   ],
   "source": [
    "import os\n",
    "model_filenames = []\n",
    "for file in os.listdir('models'):\n",
    "    if file.endswith('.pkl'):\n",
    "        model_filenames.append(file)\n",
    "\n",
    "estimators = []\n",
    "for filename in model_filenames:\n",
    "    print('Loading model {0}'.format(filename))\n",
    "    estimators.append(joblib.load('models/{0}'.format(filename)))"
   ]
  },
  {
   "cell_type": "markdown",
   "metadata": {
    "collapsed": true,
    "deletable": true,
    "editable": true
   },
   "source": [
    "## Load stock data, calculate predictions and trade signals"
   ]
  },
  {
   "cell_type": "code",
   "execution_count": 4,
   "metadata": {
    "collapsed": false
   },
   "outputs": [
    {
     "data": {
      "text/html": [
       "<div>\n",
       "<table border=\"1\" class=\"dataframe\">\n",
       "  <thead>\n",
       "    <tr style=\"text-align: right;\">\n",
       "      <th></th>\n",
       "      <th>Adj. Open</th>\n",
       "      <th>Adj. High</th>\n",
       "      <th>Adj. Low</th>\n",
       "      <th>Adj. Close</th>\n",
       "      <th>Daily return</th>\n",
       "      <th>Rolling mean 5</th>\n",
       "      <th>Lower Bollinger band 5</th>\n",
       "      <th>Upper Bollinger band 5</th>\n",
       "      <th>Cummulative return 5</th>\n",
       "      <th>Future Price</th>\n",
       "      <th>Past Close 3</th>\n",
       "    </tr>\n",
       "  </thead>\n",
       "  <tbody>\n",
       "    <tr>\n",
       "      <th>2017-01-06</th>\n",
       "      <td>115.337596</td>\n",
       "      <td>116.700551</td>\n",
       "      <td>115.031425</td>\n",
       "      <td>116.453639</td>\n",
       "      <td>0.011148</td>\n",
       "      <td>115.128215</td>\n",
       "      <td>113.581518</td>\n",
       "      <td>116.674912</td>\n",
       "      <td>0.015153</td>\n",
       "      <td>116.453639</td>\n",
       "      <td>114.715378</td>\n",
       "    </tr>\n",
       "    <tr>\n",
       "      <th>2017-01-07</th>\n",
       "      <td>115.337596</td>\n",
       "      <td>116.700551</td>\n",
       "      <td>115.031425</td>\n",
       "      <td>116.453639</td>\n",
       "      <td>0.000000</td>\n",
       "      <td>115.475867</td>\n",
       "      <td>113.638947</td>\n",
       "      <td>117.312787</td>\n",
       "      <td>0.015153</td>\n",
       "      <td>116.453639</td>\n",
       "      <td>114.586983</td>\n",
       "    </tr>\n",
       "    <tr>\n",
       "      <th>2017-01-08</th>\n",
       "      <td>115.337596</td>\n",
       "      <td>116.700551</td>\n",
       "      <td>115.031425</td>\n",
       "      <td>116.453639</td>\n",
       "      <td>0.000000</td>\n",
       "      <td>115.823519</td>\n",
       "      <td>114.049355</td>\n",
       "      <td>117.597684</td>\n",
       "      <td>0.015153</td>\n",
       "      <td>117.520300</td>\n",
       "      <td>115.169696</td>\n",
       "    </tr>\n",
       "    <tr>\n",
       "      <th>2017-01-09</th>\n",
       "      <td>116.493145</td>\n",
       "      <td>117.954865</td>\n",
       "      <td>116.483269</td>\n",
       "      <td>117.520300</td>\n",
       "      <td>0.009160</td>\n",
       "      <td>116.410183</td>\n",
       "      <td>114.743800</td>\n",
       "      <td>118.076566</td>\n",
       "      <td>0.025599</td>\n",
       "      <td>117.638817</td>\n",
       "      <td>116.453639</td>\n",
       "    </tr>\n",
       "    <tr>\n",
       "      <th>2017-01-10</th>\n",
       "      <td>117.303017</td>\n",
       "      <td>117.905483</td>\n",
       "      <td>116.838822</td>\n",
       "      <td>117.638817</td>\n",
       "      <td>0.001008</td>\n",
       "      <td>116.904007</td>\n",
       "      <td>115.667780</td>\n",
       "      <td>118.140234</td>\n",
       "      <td>0.021439</td>\n",
       "      <td>118.270913</td>\n",
       "      <td>116.453639</td>\n",
       "    </tr>\n",
       "  </tbody>\n",
       "</table>\n",
       "</div>"
      ],
      "text/plain": [
       "             Adj. Open   Adj. High    Adj. Low  Adj. Close  Daily return  \\\n",
       "2017-01-06  115.337596  116.700551  115.031425  116.453639      0.011148   \n",
       "2017-01-07  115.337596  116.700551  115.031425  116.453639      0.000000   \n",
       "2017-01-08  115.337596  116.700551  115.031425  116.453639      0.000000   \n",
       "2017-01-09  116.493145  117.954865  116.483269  117.520300      0.009160   \n",
       "2017-01-10  117.303017  117.905483  116.838822  117.638817      0.001008   \n",
       "\n",
       "            Rolling mean 5  Lower Bollinger band 5  Upper Bollinger band 5  \\\n",
       "2017-01-06      115.128215              113.581518              116.674912   \n",
       "2017-01-07      115.475867              113.638947              117.312787   \n",
       "2017-01-08      115.823519              114.049355              117.597684   \n",
       "2017-01-09      116.410183              114.743800              118.076566   \n",
       "2017-01-10      116.904007              115.667780              118.140234   \n",
       "\n",
       "            Cummulative return 5  Future Price  Past Close 3  \n",
       "2017-01-06              0.015153    116.453639    114.715378  \n",
       "2017-01-07              0.015153    116.453639    114.586983  \n",
       "2017-01-08              0.015153    117.520300    115.169696  \n",
       "2017-01-09              0.025599    117.638817    116.453639  \n",
       "2017-01-10              0.021439    118.270913    116.453639  "
      ]
     },
     "execution_count": 4,
     "metadata": {},
     "output_type": "execute_result"
    }
   ],
   "source": [
    "dataset = su.preprocess_data('AAPL', window, look_ahead, start_date, end_date, look_behind)\n",
    "dataset.head()"
   ]
  },
  {
   "cell_type": "code",
   "execution_count": 5,
   "metadata": {
    "collapsed": false,
    "deletable": true,
    "editable": true
   },
   "outputs": [
    {
     "name": "stdout",
     "output_type": "stream",
     "text": [
      "Processing data for AAPL\n",
      "Calculating predictions for AAPL\n",
      "Calculating signals for AAPL\n",
      "\n",
      "Processing data for XOM\n",
      "Calculating predictions for XOM\n",
      "Calculating signals for XOM\n",
      "\n",
      "Processing data for JNJ\n",
      "Calculating predictions for JNJ\n",
      "Calculating signals for JNJ\n",
      "\n"
     ]
    }
   ],
   "source": [
    "#price variation in percentage which can inform trade decisions\n",
    "delta = 0.025\n",
    "\n",
    "signaller_params = {'delta' : delta}\n",
    "\n",
    "stock_data = []\n",
    "\n",
    "for symbol in tickers:\n",
    "    print('Processing data for {0}'.format(symbol))\n",
    "    dataset = su.preprocess_data(symbol, window, look_ahead, start_date, end_date, look_behind)\n",
    "\n",
    "    #calculate the predicted prices\n",
    "    print('Calculating predictions for {0}'.format(symbol))\n",
    "    pred = su.calculate_predictions_for_dataset(dataset=dataset, estimators=estimators, plot_and_print=False)\n",
    "    \n",
    "    #add the predicted prices to the dataset\n",
    "    dataset['Predicted Price'] = pred\n",
    "    \n",
    "    #calculate trade signals based on different indicators and add those signals to the dataframe\n",
    "    print('Calculating signals for {0}\\n'.format(symbol))\n",
    "    signaller = Signaller(signaller_params)\n",
    "\n",
    "    dataset = signaller.calculate_trade_signal(dataset)\n",
    "    \n",
    "    stock_data.append({'name' : symbol, 'data' : dataset})"
   ]
  },
  {
   "cell_type": "markdown",
   "metadata": {
    "deletable": true,
    "editable": true
   },
   "source": [
    "## Run the trading algorithm and check the results"
   ]
  },
  {
   "cell_type": "code",
   "execution_count": 6,
   "metadata": {
    "collapsed": false,
    "deletable": true,
    "editable": true,
    "scrolled": false
   },
   "outputs": [
    {
     "name": "stdout",
     "output_type": "stream",
     "text": [
      "Trading stock AAPL\n",
      "Balanced Trader no predictions starts trading\n",
      "Balanced Trader no predictions sells 100 stocks for 12703.26 $ on 2017-02-01 00:00:00\n",
      "Balanced Trader no predictions sells 100 stocks for 12681.55 $ on 2017-02-02 00:00:00\n",
      "Balanced Trader no predictions sells 100 stocks for 12735.82 $ on 2017-02-03 00:00:00\n",
      "Balanced Trader no predictions buys 100 stocks for 14979.25 $ on 2017-05-17 00:00:00\n",
      "Balanced Trader no predictions buys 100 stocks for 14852.63 $ on 2017-06-09 00:00:00\n",
      "Balanced Trader no predictions sells 100 stocks for 15634.85 $ on 2017-08-02 00:00:00\n",
      "Balanced Trader no predictions buys 100 stocks for 15354.34 $ on 2017-09-21 00:00:00\n",
      "Balanced Trader no predictions sells 100 stocks for 16288.70 $ on 2017-10-27 00:00:00\n",
      "After 8 transactions, Balanced Trader no predictions has 300 stocks and 103354.81$ cash spent and 70044.17$ cash made\n",
      "Balanced Trader no predictions ends trading with a profit of 15.05%\n",
      "\n",
      "Balanced Trader with predictions starts trading\n",
      "Balanced Trader with predictions sells 100 stocks for 12703.26 $ on 2017-02-01 00:00:00\n",
      "Balanced Trader with predictions sells 100 stocks for 12681.55 $ on 2017-02-02 00:00:00\n",
      "Balanced Trader with predictions sells 100 stocks for 12735.82 $ on 2017-02-03 00:00:00\n",
      "Balanced Trader with predictions buys 100 stocks for 14979.25 $ on 2017-05-17 00:00:00\n",
      "Balanced Trader with predictions buys 100 stocks for 14852.63 $ on 2017-06-09 00:00:00\n",
      "Balanced Trader with predictions sells 100 stocks for 15634.85 $ on 2017-08-02 00:00:00\n",
      "Balanced Trader with predictions buys 100 stocks for 15354.34 $ on 2017-09-21 00:00:00\n",
      "Balanced Trader with predictions sells 100 stocks for 16288.70 $ on 2017-10-27 00:00:00\n",
      "After 8 transactions, Balanced Trader with predictions has 300 stocks and 103354.81$ cash spent and 70044.17$ cash made\n",
      "Balanced Trader with predictions ends trading with a profit of 15.05%\n",
      "\n",
      "Bearish Trader no predictions starts trading\n",
      "Bearish Trader no predictions sells 100 stocks for 12703.26 $ on 2017-02-01 00:00:00\n",
      "Bearish Trader no predictions sells 100 stocks for 12681.55 $ on 2017-02-02 00:00:00\n",
      "Bearish Trader no predictions sells 100 stocks for 12735.82 $ on 2017-02-03 00:00:00\n",
      "Bearish Trader no predictions sells 100 stocks for 13427.79 $ on 2017-02-15 00:00:00\n",
      "Bearish Trader no predictions sells 100 stocks for 14616.88 $ on 2017-05-02 00:00:00\n",
      "After 5 transactions, Bearish Trader no predictions has 0 stocks and 58168.59$ cash spent and 66165.31$ cash made\n",
      "Bearish Trader no predictions ends trading with a profit of 13.75%\n",
      "\n",
      "Bearish Trader with predictions starts trading\n",
      "Bearish Trader with predictions sells 100 stocks for 11765.93 $ on 2017-01-12 00:00:00\n",
      "Bearish Trader with predictions sells 100 stocks for 12032.33 $ on 2017-01-29 00:00:00\n",
      "Bearish Trader with predictions sells 100 stocks for 12703.26 $ on 2017-02-01 00:00:00\n",
      "Bearish Trader with predictions sells 100 stocks for 12681.55 $ on 2017-02-02 00:00:00\n",
      "Bearish Trader with predictions sells 100 stocks for 12735.82 $ on 2017-02-03 00:00:00\n",
      "After 5 transactions, Bearish Trader with predictions has 0 stocks and 58168.59$ cash spent and 61918.89$ cash made\n",
      "Bearish Trader with predictions ends trading with a profit of 6.45%\n",
      "\n",
      "Bullish Trader no predictions starts trading\n",
      "Bullish Trader no predictions buys 100 stocks for 14979.25 $ on 2017-05-17 00:00:00\n",
      "Bullish Trader no predictions buys 100 stocks for 14852.63 $ on 2017-06-09 00:00:00\n",
      "Bullish Trader no predictions buys 100 stocks for 14852.63 $ on 2017-06-10 00:00:00\n",
      "Bullish Trader no predictions buys 100 stocks for 14852.63 $ on 2017-06-11 00:00:00\n",
      "Bullish Trader no predictions buys 100 stocks for 14487.75 $ on 2017-06-12 00:00:00\n",
      "Bullish Trader no predictions buys 100 stocks for 14471.80 $ on 2017-06-14 00:00:00\n",
      "After 6 transactions, Bullish Trader no predictions has 1100 stocks and 146665.29$ cash spent and 0.00$ cash made\n",
      "Bullish Trader no predictions ends trading with a profit of 22.17%\n",
      "\n",
      "Bullish Trader with predictions starts trading\n",
      "Bullish Trader with predictions buys 100 stocks for 13899.49 $ on 2017-03-18 00:00:00\n",
      "Bullish Trader with predictions buys 100 stocks for 13884.60 $ on 2017-03-21 00:00:00\n",
      "Bullish Trader with predictions buys 100 stocks for 13964.03 $ on 2017-03-25 00:00:00\n",
      "Bullish Trader with predictions buys 100 stocks for 14004.74 $ on 2017-04-16 00:00:00\n",
      "Bullish Trader with predictions buys 100 stocks for 14019.63 $ on 2017-04-18 00:00:00\n",
      "Bullish Trader with predictions buys 100 stocks for 14979.25 $ on 2017-05-17 00:00:00\n",
      "Bullish Trader with predictions buys 100 stocks for 14852.63 $ on 2017-06-09 00:00:00\n",
      "After 7 transactions, Bullish Trader with predictions has 1200 stocks and 157772.96$ cash spent and 0.00$ cash made\n",
      "Bullish Trader with predictions ends trading with a profit of 23.89%\n",
      "\n",
      "Trading stock XOM\n",
      "Balanced Trader no predictions starts trading\n",
      "After 0 transactions, Balanced Trader no predictions has 500 stocks and 42589.68$ cash spent and 0.00$ cash made\n",
      "Balanced Trader no predictions ends trading with a profit of 0.00%\n",
      "\n",
      "Balanced Trader with predictions starts trading\n",
      "After 0 transactions, Balanced Trader with predictions has 500 stocks and 42589.68$ cash spent and 0.00$ cash made\n",
      "Balanced Trader with predictions ends trading with a profit of 0.00%\n",
      "\n",
      "Bearish Trader no predictions starts trading\n",
      "Bearish Trader no predictions sells 100 stocks for 8203.77 $ on 2017-03-30 00:00:00\n",
      "Bearish Trader no predictions sells 100 stocks for 7870.12 $ on 2017-09-06 00:00:00\n",
      "Bearish Trader no predictions sells 100 stocks for 7895.10 $ on 2017-09-07 00:00:00\n",
      "After 3 transactions, Bearish Trader no predictions has 200 stocks and 42589.68$ cash spent and 23968.99$ cash made\n",
      "Bearish Trader no predictions ends trading with a profit of -4.45%\n",
      "\n",
      "Bearish Trader with predictions starts trading\n",
      "Bearish Trader with predictions sells 100 stocks for 8311.00 $ on 2017-01-16 00:00:00\n",
      "Bearish Trader with predictions sells 100 stocks for 8266.73 $ on 2017-01-22 00:00:00\n",
      "Bearish Trader with predictions sells 100 stocks for 8230.15 $ on 2017-01-29 00:00:00\n",
      "Bearish Trader with predictions sells 100 stocks for 8040.55 $ on 2017-02-04 00:00:00\n",
      "Bearish Trader with predictions sells 100 stocks for 8117.51 $ on 2017-02-14 00:00:00\n",
      "After 5 transactions, Bearish Trader with predictions has 0 stocks and 42589.68$ cash spent and 40965.94$ cash made\n",
      "Bearish Trader with predictions ends trading with a profit of -3.81%\n",
      "\n",
      "Bullish Trader no predictions starts trading\n",
      "Bullish Trader no predictions buys 100 stocks for 8534.99 $ on 2017-01-06 00:00:00\n",
      "Bullish Trader no predictions buys 100 stocks for 8287.14 $ on 2017-01-10 00:00:00\n",
      "Bullish Trader no predictions buys 100 stocks for 7998.78 $ on 2017-02-01 00:00:00\n",
      "Bullish Trader no predictions buys 100 stocks for 7633.63 $ on 2017-08-17 00:00:00\n",
      "After 4 transactions, Bullish Trader no predictions has 900 stocks and 75044.20$ cash spent and 0.00$ cash made\n",
      "Bullish Trader no predictions ends trading with a profit of 0.29%\n",
      "\n",
      "Bullish Trader with predictions starts trading\n",
      "Bullish Trader with predictions buys 100 stocks for 8534.99 $ on 2017-01-06 00:00:00\n",
      "Bullish Trader with predictions buys 100 stocks for 8287.14 $ on 2017-01-10 00:00:00\n",
      "Bullish Trader with predictions buys 100 stocks for 7998.78 $ on 2017-02-01 00:00:00\n",
      "Bullish Trader with predictions buys 100 stocks for 8098.41 $ on 2017-03-04 00:00:00\n",
      "Bullish Trader with predictions buys 100 stocks for 8104.30 $ on 2017-03-07 00:00:00\n",
      "Bullish Trader with predictions buys 100 stocks for 8014.93 $ on 2017-03-11 00:00:00\n",
      "Bullish Trader with predictions buys 100 stocks for 8127.87 $ on 2017-04-09 00:00:00\n",
      "Bullish Trader with predictions buys 100 stocks for 8183.46 $ on 2017-05-16 00:00:00\n",
      "Bullish Trader with predictions buys 100 stocks for 8015.93 $ on 2017-07-20 00:00:00\n",
      "Bullish Trader with predictions buys 100 stocks for 7633.63 $ on 2017-08-17 00:00:00\n",
      "Bullish Trader with predictions buys 100 stocks for 8249.24 $ on 2017-10-14 00:00:00\n",
      "Bullish Trader with predictions buys 100 stocks for 8249.24 $ on 2017-10-15 00:00:00\n",
      "After 12 transactions, Bullish Trader with predictions has 1700 stocks and 140087.59$ cash spent and 0.00$ cash made\n",
      "Bullish Trader with predictions ends trading with a profit of 1.48%\n",
      "\n",
      "Trading stock JNJ\n",
      "Balanced Trader no predictions starts trading\n",
      "Balanced Trader no predictions sells 100 stocks for 13979.89 $ on 2017-10-17 00:00:00\n",
      "After 1 transactions, Balanced Trader no predictions has 400 stocks and 56630.07$ cash spent and 13979.89$ cash made\n",
      "Balanced Trader no predictions ends trading with a profit of 24.13%\n",
      "\n",
      "Balanced Trader with predictions starts trading\n",
      "Balanced Trader with predictions sells 100 stocks for 13979.89 $ on 2017-10-17 00:00:00\n",
      "After 1 transactions, Balanced Trader with predictions has 400 stocks and 56630.07$ cash spent and 13979.89$ cash made\n",
      "Balanced Trader with predictions ends trading with a profit of 24.13%\n",
      "\n",
      "Bearish Trader no predictions starts trading\n",
      "Bearish Trader no predictions sells 100 stocks for 12030.12 $ on 2017-02-24 00:00:00\n",
      "Bearish Trader no predictions sells 100 stocks for 12030.12 $ on 2017-02-25 00:00:00\n",
      "Bearish Trader no predictions sells 100 stocks for 12447.69 $ on 2017-05-15 00:00:00\n",
      "Bearish Trader no predictions sells 100 stocks for 12524.14 $ on 2017-05-16 00:00:00\n",
      "Bearish Trader no predictions sells 100 stocks for 13474.90 $ on 2017-07-20 00:00:00\n",
      "After 5 transactions, Bearish Trader no predictions has 0 stocks and 56630.07$ cash spent and 62506.96$ cash made\n",
      "Bearish Trader no predictions ends trading with a profit of 10.38%\n",
      "\n",
      "Bearish Trader with predictions starts trading\n",
      "Bearish Trader with predictions sells 100 stocks for 11326.01 $ on 2017-01-08 00:00:00\n",
      "Bearish Trader with predictions sells 100 stocks for 11186.75 $ on 2017-01-17 00:00:00\n",
      "Bearish Trader with predictions sells 100 stocks for 11170.20 $ on 2017-01-18 00:00:00\n",
      "Bearish Trader with predictions sells 100 stocks for 11066.97 $ on 2017-02-04 00:00:00\n",
      "Bearish Trader with predictions sells 100 stocks for 11066.97 $ on 2017-02-05 00:00:00\n",
      "After 5 transactions, Bearish Trader with predictions has 0 stocks and 56630.07$ cash spent and 55816.89$ cash made\n",
      "Bearish Trader with predictions ends trading with a profit of -1.44%\n",
      "\n",
      "Bullish Trader no predictions starts trading\n",
      "Bullish Trader no predictions buys 100 stocks for 11964.82 $ on 2017-04-18 00:00:00\n",
      "Bullish Trader no predictions buys 100 stocks for 11920.62 $ on 2017-04-19 00:00:00\n",
      "Bullish Trader no predictions buys 100 stocks for 11969.73 $ on 2017-04-20 00:00:00\n",
      "Bullish Trader no predictions buys 100 stocks for 13113.34 $ on 2017-06-29 00:00:00\n",
      "Bullish Trader no predictions buys 100 stocks for 13038.20 $ on 2017-07-25 00:00:00\n",
      "Bullish Trader no predictions buys 100 stocks for 12946.26 $ on 2017-07-26 00:00:00\n",
      "Bullish Trader no predictions buys 100 stocks for 13108.44 $ on 2017-09-21 00:00:00\n",
      "After 7 transactions, Bullish Trader no predictions has 1200 stocks and 144691.50$ cash spent and 0.00$ cash made\n",
      "Bullish Trader no predictions ends trading with a profit of 16.76%\n",
      "\n",
      "Bullish Trader with predictions starts trading\n",
      "Bullish Trader with predictions buys 100 stocks for 11138.89 $ on 2017-01-22 00:00:00\n",
      "Bullish Trader with predictions buys 100 stocks for 12577.70 $ on 2017-03-18 00:00:00\n",
      "Bullish Trader with predictions buys 100 stocks for 12269.30 $ on 2017-04-09 00:00:00\n",
      "Bullish Trader with predictions buys 100 stocks for 11964.82 $ on 2017-04-18 00:00:00\n",
      "Bullish Trader with predictions buys 100 stocks for 11920.62 $ on 2017-04-19 00:00:00\n",
      "Bullish Trader with predictions buys 100 stocks for 11969.73 $ on 2017-04-20 00:00:00\n",
      "Bullish Trader with predictions buys 100 stocks for 12547.84 $ on 2017-05-27 00:00:00\n",
      "Bullish Trader with predictions buys 100 stocks for 13113.34 $ on 2017-06-29 00:00:00\n",
      "After 8 transactions, Bullish Trader with predictions has 1300 stocks and 154132.31$ cash spent and 0.00$ cash made\n",
      "Bullish Trader with predictions ends trading with a profit of 18.74%\n",
      "\n",
      "Profits for AAPL\n",
      "Normal traders mean profit: 16.99%\n",
      "Prediction traders mean profit: 15.13%\n",
      "\n",
      "Profits for XOM\n",
      "Normal traders mean profit: -1.39%\n",
      "Prediction traders mean profit: -0.78%\n",
      "\n",
      "Profits for JNJ\n",
      "Normal traders mean profit: 17.09%\n",
      "Prediction traders mean profit: 13.81%\n",
      "\n"
     ]
    }
   ],
   "source": [
    "trading_algo = TradingAlgorithm()\n",
    "profits = trading_algo.trade(stock_data)\n",
    "\n",
    "for p in profits:\n",
    "    symbol = p['name']\n",
    "    profits_df = p['profits']\n",
    "    \n",
    "    print('Profits for {0}'.format(symbol))\n",
    "#     print(profits_df[:6])\n",
    "    \n",
    "    print('Normal traders mean profit: {0:.2f}%'.format(profits_df['Normal Traders'].mean()))\n",
    "    print('Prediction traders mean profit: {0:.2f}%\\n'.format(profits_df['Prediction Traders'].mean()))"
   ]
  },
  {
   "cell_type": "code",
   "execution_count": 7,
   "metadata": {
    "collapsed": false,
    "deletable": true,
    "editable": true
   },
   "outputs": [
    {
     "data": {
      "text/html": [
       "<div>\n",
       "<table border=\"1\" class=\"dataframe\">\n",
       "  <thead>\n",
       "    <tr style=\"text-align: right;\">\n",
       "      <th></th>\n",
       "      <th>Normal Traders</th>\n",
       "      <th>Prediction Traders</th>\n",
       "    </tr>\n",
       "  </thead>\n",
       "  <tbody>\n",
       "    <tr>\n",
       "      <th>0</th>\n",
       "      <td>15.050528</td>\n",
       "      <td>15.050528</td>\n",
       "    </tr>\n",
       "    <tr>\n",
       "      <th>1</th>\n",
       "      <td>13.747478</td>\n",
       "      <td>6.447290</td>\n",
       "    </tr>\n",
       "    <tr>\n",
       "      <th>2</th>\n",
       "      <td>22.166360</td>\n",
       "      <td>23.889629</td>\n",
       "    </tr>\n",
       "  </tbody>\n",
       "</table>\n",
       "</div>"
      ],
      "text/plain": [
       "   Normal Traders  Prediction Traders\n",
       "0       15.050528           15.050528\n",
       "1       13.747478            6.447290\n",
       "2       22.166360           23.889629"
      ]
     },
     "execution_count": 7,
     "metadata": {},
     "output_type": "execute_result"
    }
   ],
   "source": [
    "profits[0]['profits'].head()"
   ]
  },
  {
   "cell_type": "code",
   "execution_count": 8,
   "metadata": {
    "collapsed": false,
    "deletable": true,
    "editable": true
   },
   "outputs": [
    {
     "data": {
      "text/html": [
       "<div>\n",
       "<table border=\"1\" class=\"dataframe\">\n",
       "  <thead>\n",
       "    <tr style=\"text-align: right;\">\n",
       "      <th></th>\n",
       "      <th>Normal Traders</th>\n",
       "      <th>Prediction Traders</th>\n",
       "    </tr>\n",
       "  </thead>\n",
       "  <tbody>\n",
       "    <tr>\n",
       "      <th>0</th>\n",
       "      <td>0.000000</td>\n",
       "      <td>0.000000</td>\n",
       "    </tr>\n",
       "    <tr>\n",
       "      <th>1</th>\n",
       "      <td>-4.450448</td>\n",
       "      <td>-3.812498</td>\n",
       "    </tr>\n",
       "    <tr>\n",
       "      <th>2</th>\n",
       "      <td>0.292438</td>\n",
       "      <td>1.482716</td>\n",
       "    </tr>\n",
       "  </tbody>\n",
       "</table>\n",
       "</div>"
      ],
      "text/plain": [
       "   Normal Traders  Prediction Traders\n",
       "0        0.000000            0.000000\n",
       "1       -4.450448           -3.812498\n",
       "2        0.292438            1.482716"
      ]
     },
     "execution_count": 8,
     "metadata": {},
     "output_type": "execute_result"
    }
   ],
   "source": [
    "profits[1]['profits'].head()"
   ]
  },
  {
   "cell_type": "code",
   "execution_count": 9,
   "metadata": {
    "collapsed": false,
    "deletable": true,
    "editable": true
   },
   "outputs": [
    {
     "data": {
      "text/html": [
       "<div>\n",
       "<table border=\"1\" class=\"dataframe\">\n",
       "  <thead>\n",
       "    <tr style=\"text-align: right;\">\n",
       "      <th></th>\n",
       "      <th>Normal Traders</th>\n",
       "      <th>Prediction Traders</th>\n",
       "    </tr>\n",
       "  </thead>\n",
       "  <tbody>\n",
       "    <tr>\n",
       "      <th>0</th>\n",
       "      <td>24.126019</td>\n",
       "      <td>24.126019</td>\n",
       "    </tr>\n",
       "    <tr>\n",
       "      <th>1</th>\n",
       "      <td>10.377686</td>\n",
       "      <td>-1.435942</td>\n",
       "    </tr>\n",
       "    <tr>\n",
       "      <th>2</th>\n",
       "      <td>16.757577</td>\n",
       "      <td>18.739851</td>\n",
       "    </tr>\n",
       "  </tbody>\n",
       "</table>\n",
       "</div>"
      ],
      "text/plain": [
       "   Normal Traders  Prediction Traders\n",
       "0       24.126019           24.126019\n",
       "1       10.377686           -1.435942\n",
       "2       16.757577           18.739851"
      ]
     },
     "execution_count": 9,
     "metadata": {},
     "output_type": "execute_result"
    }
   ],
   "source": [
    "profits[2]['profits'].head()"
   ]
  },
  {
   "cell_type": "code",
   "execution_count": null,
   "metadata": {
    "collapsed": true,
    "deletable": true,
    "editable": true
   },
   "outputs": [],
   "source": []
  }
 ],
 "metadata": {
  "kernelspec": {
   "display_name": "Python 2",
   "language": "python",
   "name": "python2"
  },
  "language_info": {
   "codemirror_mode": {
    "name": "ipython",
    "version": 2
   },
   "file_extension": ".py",
   "mimetype": "text/x-python",
   "name": "python",
   "nbconvert_exporter": "python",
   "pygments_lexer": "ipython2",
   "version": "2.7.13"
  }
 },
 "nbformat": 4,
 "nbformat_minor": 2
}
