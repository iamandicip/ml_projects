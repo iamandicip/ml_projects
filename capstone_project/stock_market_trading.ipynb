{
 "cells": [
  {
   "cell_type": "code",
   "execution_count": 1,
   "metadata": {
    "collapsed": false,
    "deletable": true,
    "editable": true
   },
   "outputs": [],
   "source": [
    "import pandas as pd\n",
    "import datetime\n",
    "import numpy as np\n",
    "import matplotlib as plt\n",
    "import stock_utils as su\n",
    "\n",
    "from signaller import Signaller\n",
    "from trading_algorithm import TradingAlgorithm\n",
    "\n",
    "from sklearn.externals import joblib\n",
    "\n",
    "%matplotlib inline"
   ]
  },
  {
   "cell_type": "markdown",
   "metadata": {
    "deletable": true,
    "editable": true
   },
   "source": [
    "## Choose a ticker symbol and generate a dataset with selected new features for it"
   ]
  },
  {
   "cell_type": "code",
   "execution_count": 2,
   "metadata": {
    "collapsed": true,
    "deletable": true,
    "editable": true
   },
   "outputs": [],
   "source": [
    "#create a dataset for AAPL\n",
    "rs = 42 # random state\n",
    "tickers = ['AAPL', 'XOM', 'JNJ']\n",
    "symbol = tickers[0]\n",
    "window = 5\n",
    "look_ahead = 1\n",
    "\n",
    "start_date = datetime.datetime(2017, 1, 1)\n",
    "end_date = datetime.datetime(2017, 10, 30)"
   ]
  },
  {
   "cell_type": "markdown",
   "metadata": {
    "deletable": true,
    "editable": true
   },
   "source": [
    "## Load saved models"
   ]
  },
  {
   "cell_type": "code",
   "execution_count": 3,
   "metadata": {
    "collapsed": false,
    "deletable": true,
    "editable": true,
    "scrolled": false
   },
   "outputs": [
    {
     "name": "stdout",
     "output_type": "stream",
     "text": [
      "Loading model ElasticNet.pkl\n",
      "Loading model LinearRegression.pkl\n",
      "Loading model Lasso.pkl\n",
      "Loading model Ridge.pkl\n"
     ]
    }
   ],
   "source": [
    "import os\n",
    "model_filenames = []\n",
    "for file in os.listdir('models'):\n",
    "    if file.endswith('.pkl'):\n",
    "        model_filenames.append(file)\n",
    "\n",
    "estimators = []\n",
    "for filename in model_filenames:\n",
    "    print('Loading model {0}'.format(filename))\n",
    "    estimators.append(joblib.load('models/{0}'.format(filename)))"
   ]
  },
  {
   "cell_type": "markdown",
   "metadata": {
    "collapsed": true,
    "deletable": true,
    "editable": true
   },
   "source": [
    "## Load stock data, calculate predictions and trade signals"
   ]
  },
  {
   "cell_type": "code",
   "execution_count": 4,
   "metadata": {
    "collapsed": false,
    "deletable": true,
    "editable": true
   },
   "outputs": [
    {
     "name": "stdout",
     "output_type": "stream",
     "text": [
      "Processing data for AAPL\n",
      "Calculating predictions for AAPL\n",
      "Calculating signals for AAPL\n",
      "\n",
      "Processing data for XOM\n",
      "Calculating predictions for XOM\n",
      "Calculating signals for XOM\n",
      "\n",
      "Processing data for JNJ\n",
      "Calculating predictions for JNJ\n",
      "Calculating signals for JNJ\n",
      "\n"
     ]
    }
   ],
   "source": [
    "#price variation in percentage which can inform trade decisions\n",
    "delta = 0.01\n",
    "\n",
    "signaller_params = {'delta' : delta}\n",
    "\n",
    "stock_data = []\n",
    "\n",
    "for symbol in tickers:\n",
    "    print('Processing data for {0}'.format(symbol))\n",
    "    dataset = su.preprocess_data(symbol, window, look_ahead, start_date, end_date)\n",
    "\n",
    "    #calculate the predicted prices\n",
    "    print('Calculating predictions for {0}'.format(symbol))\n",
    "    pred = su.calculate_predictions_for_dataset(dataset=dataset, estimators=estimators, plot_and_print=False)\n",
    "    \n",
    "    #add the predicted prices to the dataset\n",
    "    dataset['Predicted Price'] = pred\n",
    "    \n",
    "    #calculate trade signals based on different indicators and add those signals to the dataframe\n",
    "    print('Calculating signals for {0}\\n'.format(symbol))\n",
    "    signaller = Signaller(signaller_params)\n",
    "\n",
    "    dataset = signaller.calculate_trade_signal(dataset)\n",
    "    \n",
    "    stock_data.append({'name' : symbol, 'data' : dataset})"
   ]
  },
  {
   "cell_type": "markdown",
   "metadata": {
    "deletable": true,
    "editable": true
   },
   "source": [
    "## Run the trading algorithm and check the results"
   ]
  },
  {
   "cell_type": "code",
   "execution_count": 5,
   "metadata": {
    "collapsed": false,
    "deletable": true,
    "editable": true
   },
   "outputs": [
    {
     "name": "stdout",
     "output_type": "stream",
     "text": [
      "Trading stock AAPL\n",
      "Balanced Trader no predictions starts trading\n",
      "After 0 transactions, Balanced Trader no predictions has 500 stocks and 58168.59$ cash spent and 0.00$ cash made\n",
      "Balanced Trader no predictions ends trading with a profit of 0.00%\n",
      "\n",
      "Balanced Trader with predictions starts trading\n",
      "After 0 transactions, Balanced Trader with predictions has 500 stocks and 58168.59$ cash spent and 0.00$ cash made\n",
      "Balanced Trader with predictions ends trading with a profit of 0.00%\n",
      "\n",
      "Bearish Trader no predictions starts trading\n",
      "Bearish Trader no predictions sells 100 stocks for 11633.72 $ on 2017-01-06 00:00:00\n",
      "Bearish Trader no predictions sells 100 stocks for 12025.42 $ on 2017-01-25 00:00:00\n",
      "Bearish Trader no predictions sells 100 stocks for 12703.26 $ on 2017-02-01 00:00:00\n",
      "Bearish Trader no predictions sells 100 stocks for 12681.55 $ on 2017-02-02 00:00:00\n",
      "Bearish Trader no predictions sells 100 stocks for 12735.82 $ on 2017-02-03 00:00:00\n",
      "After 5 transactions, Bearish Trader no predictions has 0 stocks and 58168.59$ cash spent and 61779.77$ cash made\n",
      "Bearish Trader no predictions ends trading with a profit of 6.21%\n",
      "\n",
      "Bearish Trader with predictions starts trading\n",
      "Bearish Trader with predictions sells 100 stocks for 11765.93 $ on 2017-01-12 00:00:00\n",
      "Bearish Trader with predictions sells 100 stocks for 12032.33 $ on 2017-01-29 00:00:00\n",
      "Bearish Trader with predictions sells 100 stocks for 12735.82 $ on 2017-02-05 00:00:00\n",
      "Bearish Trader with predictions sells 100 stocks for 13448.60 $ on 2017-02-19 00:00:00\n",
      "Bearish Trader with predictions sells 100 stocks for 13448.60 $ on 2017-02-20 00:00:00\n",
      "After 5 transactions, Bearish Trader with predictions has 0 stocks and 58168.59$ cash spent and 63431.29$ cash made\n",
      "Bearish Trader with predictions ends trading with a profit of 9.05%\n",
      "\n",
      "Bullish Trader no predictions starts trading\n",
      "Bullish Trader no predictions buys 100 stocks for 14979.25 $ on 2017-05-17 00:00:00\n",
      "Bullish Trader no predictions buys 100 stocks for 14852.63 $ on 2017-06-09 00:00:00\n",
      "Bullish Trader no predictions buys 100 stocks for 14852.63 $ on 2017-06-10 00:00:00\n",
      "Bullish Trader no predictions buys 100 stocks for 14852.63 $ on 2017-06-11 00:00:00\n",
      "Bullish Trader no predictions buys 100 stocks for 14487.75 $ on 2017-06-12 00:00:00\n",
      "Bullish Trader no predictions buys 100 stocks for 14471.80 $ on 2017-06-14 00:00:00\n",
      "After 6 transactions, Bullish Trader no predictions has 1100 stocks and 146665.29$ cash spent and 0.00$ cash made\n",
      "Bullish Trader no predictions ends trading with a profit of 22.17%\n",
      "\n",
      "Bullish Trader with predictions starts trading\n",
      "Bullish Trader with predictions buys 100 stocks for 13899.49 $ on 2017-03-18 00:00:00\n",
      "Bullish Trader with predictions buys 100 stocks for 13884.60 $ on 2017-03-21 00:00:00\n",
      "Bullish Trader with predictions buys 100 stocks for 13964.03 $ on 2017-03-25 00:00:00\n",
      "Bullish Trader with predictions buys 100 stocks for 14004.74 $ on 2017-04-16 00:00:00\n",
      "Bullish Trader with predictions buys 100 stocks for 14019.63 $ on 2017-04-18 00:00:00\n",
      "Bullish Trader with predictions buys 100 stocks for 14537.60 $ on 2017-06-26 00:00:00\n",
      "After 6 transactions, Bullish Trader with predictions has 1100 stocks and 142478.68$ cash spent and 0.00$ cash made\n",
      "Bullish Trader with predictions ends trading with a profit of 25.76%\n",
      "\n",
      "Trading stock XOM\n",
      "Balanced Trader no predictions starts trading\n",
      "After 0 transactions, Balanced Trader no predictions has 500 stocks and 42589.68$ cash spent and 0.00$ cash made\n",
      "Balanced Trader no predictions ends trading with a profit of 0.00%\n",
      "\n",
      "Balanced Trader with predictions starts trading\n",
      "After 0 transactions, Balanced Trader with predictions has 500 stocks and 42589.68$ cash spent and 0.00$ cash made\n",
      "Balanced Trader with predictions ends trading with a profit of 0.00%\n",
      "\n",
      "Bearish Trader no predictions starts trading\n",
      "Bearish Trader no predictions sells 100 stocks for 8137.12 $ on 2017-03-01 00:00:00\n",
      "Bearish Trader no predictions sells 100 stocks for 8164.56 $ on 2017-03-02 00:00:00\n",
      "Bearish Trader no predictions sells 100 stocks for 8203.77 $ on 2017-03-30 00:00:00\n",
      "Bearish Trader no predictions sells 100 stocks for 8034.54 $ on 2017-06-06 00:00:00\n",
      "Bearish Trader no predictions sells 100 stocks for 8125.56 $ on 2017-06-09 00:00:00\n",
      "After 5 transactions, Bearish Trader no predictions has 0 stocks and 42589.68$ cash spent and 40665.54$ cash made\n",
      "Bearish Trader no predictions ends trading with a profit of -4.52%\n",
      "\n",
      "Bearish Trader with predictions starts trading\n",
      "Bearish Trader with predictions sells 100 stocks for 8311.00 $ on 2017-01-16 00:00:00\n",
      "Bearish Trader with predictions sells 100 stocks for 8266.73 $ on 2017-01-22 00:00:00\n",
      "Bearish Trader with predictions sells 100 stocks for 8230.15 $ on 2017-01-29 00:00:00\n",
      "Bearish Trader with predictions sells 100 stocks for 8040.55 $ on 2017-02-04 00:00:00\n",
      "Bearish Trader with predictions sells 100 stocks for 8117.51 $ on 2017-02-14 00:00:00\n",
      "After 5 transactions, Bearish Trader with predictions has 0 stocks and 42589.68$ cash spent and 40965.94$ cash made\n",
      "Bearish Trader with predictions ends trading with a profit of -3.81%\n",
      "\n",
      "Bullish Trader no predictions starts trading\n",
      "Bullish Trader no predictions buys 100 stocks for 8534.99 $ on 2017-01-06 00:00:00\n",
      "Bullish Trader no predictions buys 100 stocks for 8394.18 $ on 2017-01-09 00:00:00\n",
      "Bullish Trader no predictions buys 100 stocks for 8287.14 $ on 2017-01-10 00:00:00\n",
      "Bullish Trader no predictions buys 100 stocks for 8171.41 $ on 2017-01-19 00:00:00\n",
      "Bullish Trader no predictions buys 100 stocks for 8090.40 $ on 2017-01-31 00:00:00\n",
      "Bullish Trader no predictions buys 100 stocks for 7998.78 $ on 2017-02-01 00:00:00\n",
      "Bullish Trader no predictions buys 100 stocks for 8029.66 $ on 2017-02-17 00:00:00\n",
      "Bullish Trader no predictions buys 100 stocks for 7957.97 $ on 2017-03-08 00:00:00\n",
      "Bullish Trader no predictions buys 100 stocks for 8022.79 $ on 2017-04-13 00:00:00\n",
      "Bullish Trader no predictions buys 100 stocks for 7904.94 $ on 2017-04-19 00:00:00\n",
      "Bullish Trader no predictions buys 100 stocks for 7881.10 $ on 2017-06-02 00:00:00\n",
      "Bullish Trader no predictions buys 100 stocks for 8073.42 $ on 2017-06-21 00:00:00\n",
      "After 12 transactions, Bullish Trader no predictions has 1700 stocks and 139936.45$ cash spent and 0.00$ cash made\n",
      "Bullish Trader no predictions ends trading with a profit of 1.59%\n",
      "\n",
      "Bullish Trader with predictions starts trading\n",
      "Bullish Trader with predictions buys 100 stocks for 8230.24 $ on 2017-01-25 00:00:00\n",
      "Bullish Trader with predictions buys 100 stocks for 8098.41 $ on 2017-03-04 00:00:00\n",
      "Bullish Trader with predictions buys 100 stocks for 8014.93 $ on 2017-03-11 00:00:00\n",
      "Bullish Trader with predictions buys 100 stocks for 8127.87 $ on 2017-04-09 00:00:00\n",
      "Bullish Trader with predictions buys 100 stocks for 8183.46 $ on 2017-05-16 00:00:00\n",
      "Bullish Trader with predictions buys 100 stocks for 8015.93 $ on 2017-07-20 00:00:00\n",
      "Bullish Trader with predictions buys 100 stocks for 8249.24 $ on 2017-10-14 00:00:00\n",
      "Bullish Trader with predictions buys 100 stocks for 8249.24 $ on 2017-10-15 00:00:00\n",
      "After 8 transactions, Bullish Trader with predictions has 1300 stocks and 107759.00$ cash spent and 0.00$ cash made\n",
      "Bullish Trader with predictions ends trading with a profit of 0.89%\n",
      "\n",
      "Trading stock JNJ\n",
      "Balanced Trader no predictions starts trading\n",
      "After 0 transactions, Balanced Trader no predictions has 500 stocks and 56630.07$ cash spent and 0.00$ cash made\n",
      "Balanced Trader no predictions ends trading with a profit of 0.00%\n",
      "\n",
      "Balanced Trader with predictions starts trading\n",
      "After 0 transactions, Balanced Trader with predictions has 500 stocks and 56630.07$ cash spent and 0.00$ cash made\n",
      "Balanced Trader with predictions ends trading with a profit of 0.00%\n",
      "\n",
      "Bearish Trader no predictions starts trading\n",
      "Bearish Trader no predictions sells 100 stocks for 11222.78 $ on 2017-02-10 00:00:00\n",
      "Bearish Trader no predictions sells 100 stocks for 11413.66 $ on 2017-02-15 00:00:00\n",
      "Bearish Trader no predictions sells 100 stocks for 11499.36 $ on 2017-02-16 00:00:00\n",
      "Bearish Trader no predictions sells 100 stocks for 11575.32 $ on 2017-02-17 00:00:00\n",
      "Bearish Trader no predictions sells 100 stocks for 11851.90 $ on 2017-02-23 00:00:00\n",
      "After 5 transactions, Bearish Trader no predictions has 0 stocks and 56630.07$ cash spent and 57563.03$ cash made\n",
      "Bearish Trader no predictions ends trading with a profit of 1.65%\n",
      "\n",
      "Bearish Trader with predictions starts trading\n",
      "Bearish Trader with predictions sells 100 stocks for 11186.75 $ on 2017-01-17 00:00:00\n",
      "Bearish Trader with predictions sells 100 stocks for 11170.20 $ on 2017-01-18 00:00:00\n",
      "Bearish Trader with predictions sells 100 stocks for 11066.97 $ on 2017-02-04 00:00:00\n",
      "Bearish Trader with predictions sells 100 stocks for 11066.97 $ on 2017-02-05 00:00:00\n",
      "Bearish Trader with predictions sells 100 stocks for 11575.32 $ on 2017-02-20 00:00:00\n",
      "After 5 transactions, Bearish Trader with predictions has 0 stocks and 56630.07$ cash spent and 56066.20$ cash made\n",
      "Bearish Trader with predictions ends trading with a profit of -1.00%\n",
      "\n",
      "Bullish Trader no predictions starts trading\n",
      "Bullish Trader no predictions buys 100 stocks for 11195.49 $ on 2017-01-11 00:00:00\n",
      "Bullish Trader no predictions buys 100 stocks for 10905.67 $ on 2017-01-24 00:00:00\n",
      "Bullish Trader no predictions buys 100 stocks for 12400.91 $ on 2017-03-22 00:00:00\n",
      "Bullish Trader no predictions buys 100 stocks for 11964.82 $ on 2017-04-18 00:00:00\n",
      "Bullish Trader no predictions buys 100 stocks for 11920.62 $ on 2017-04-19 00:00:00\n",
      "Bullish Trader no predictions buys 100 stocks for 11969.73 $ on 2017-04-20 00:00:00\n",
      "Bullish Trader no predictions buys 100 stocks for 13230.00 $ on 2017-06-28 00:00:00\n",
      "Bullish Trader no predictions buys 100 stocks for 13113.34 $ on 2017-06-29 00:00:00\n",
      "After 8 transactions, Bullish Trader no predictions has 1300 stocks and 153330.66$ cash spent and 0.00$ cash made\n",
      "Bullish Trader no predictions ends trading with a profit of 19.36%\n",
      "\n",
      "Bullish Trader with predictions starts trading\n",
      "Bullish Trader with predictions buys 100 stocks for 11138.89 $ on 2017-01-22 00:00:00\n",
      "Bullish Trader with predictions buys 100 stocks for 12577.70 $ on 2017-03-18 00:00:00\n",
      "Bullish Trader with predictions buys 100 stocks for 12269.30 $ on 2017-04-09 00:00:00\n",
      "Bullish Trader with predictions buys 100 stocks for 12547.84 $ on 2017-05-27 00:00:00\n",
      "Bullish Trader with predictions buys 100 stocks for 12547.84 $ on 2017-05-28 00:00:00\n",
      "Bullish Trader with predictions buys 100 stocks for 13377.31 $ on 2017-07-22 00:00:00\n",
      "Bullish Trader with predictions buys 100 stocks for 13158.82 $ on 2017-08-13 00:00:00\n",
      "After 7 transactions, Bullish Trader with predictions has 1200 stocks and 144247.76$ cash spent and 0.00$ cash made\n",
      "Bullish Trader with predictions ends trading with a profit of 17.12%\n",
      "\n",
      "Profits for AAPL\n",
      "Normal traders mean profit: 9.46%\n",
      "Prediction traders mean profit: 11.60%\n",
      "\n",
      "Profits for XOM\n",
      "Normal traders mean profit: -0.98%\n",
      "Prediction traders mean profit: -0.98%\n",
      "\n",
      "Profits for JNJ\n",
      "Normal traders mean profit: 7.00%\n",
      "Prediction traders mean profit: 5.37%\n",
      "\n"
     ]
    }
   ],
   "source": [
    "trading_algo = TradingAlgorithm()\n",
    "profits = trading_algo.trade(stock_data)\n",
    "\n",
    "for p in profits:\n",
    "    symbol = p['name']\n",
    "    profits_df = p['profits']\n",
    "    \n",
    "    print('Profits for {0}'.format(symbol))\n",
    "#     print(profits_df[:6])\n",
    "    \n",
    "    print('Normal traders mean profit: {0:.2f}%'.format(profits_df['Normal Traders'].mean()))\n",
    "    print('Prediction traders mean profit: {0:.2f}%\\n'.format(profits_df['Prediction Traders'].mean()))"
   ]
  },
  {
   "cell_type": "code",
   "execution_count": 6,
   "metadata": {
    "collapsed": false,
    "deletable": true,
    "editable": true
   },
   "outputs": [
    {
     "data": {
      "text/html": [
       "<div>\n",
       "<table border=\"1\" class=\"dataframe\">\n",
       "  <thead>\n",
       "    <tr style=\"text-align: right;\">\n",
       "      <th></th>\n",
       "      <th>Normal Traders</th>\n",
       "      <th>Prediction Traders</th>\n",
       "    </tr>\n",
       "  </thead>\n",
       "  <tbody>\n",
       "    <tr>\n",
       "      <th>0</th>\n",
       "      <td>0.000000</td>\n",
       "      <td>0.000000</td>\n",
       "    </tr>\n",
       "    <tr>\n",
       "      <th>1</th>\n",
       "      <td>6.208125</td>\n",
       "      <td>9.047309</td>\n",
       "    </tr>\n",
       "    <tr>\n",
       "      <th>2</th>\n",
       "      <td>22.166360</td>\n",
       "      <td>25.756111</td>\n",
       "    </tr>\n",
       "  </tbody>\n",
       "</table>\n",
       "</div>"
      ],
      "text/plain": [
       "   Normal Traders  Prediction Traders\n",
       "0        0.000000            0.000000\n",
       "1        6.208125            9.047309\n",
       "2       22.166360           25.756111"
      ]
     },
     "execution_count": 6,
     "metadata": {},
     "output_type": "execute_result"
    }
   ],
   "source": [
    "profits[0]['profits'].head()"
   ]
  },
  {
   "cell_type": "code",
   "execution_count": 7,
   "metadata": {
    "collapsed": false,
    "deletable": true,
    "editable": true
   },
   "outputs": [
    {
     "data": {
      "text/html": [
       "<div>\n",
       "<table border=\"1\" class=\"dataframe\">\n",
       "  <thead>\n",
       "    <tr style=\"text-align: right;\">\n",
       "      <th></th>\n",
       "      <th>Normal Traders</th>\n",
       "      <th>Prediction Traders</th>\n",
       "    </tr>\n",
       "  </thead>\n",
       "  <tbody>\n",
       "    <tr>\n",
       "      <th>0</th>\n",
       "      <td>0.000000</td>\n",
       "      <td>0.000000</td>\n",
       "    </tr>\n",
       "    <tr>\n",
       "      <th>1</th>\n",
       "      <td>-4.517840</td>\n",
       "      <td>-3.812498</td>\n",
       "    </tr>\n",
       "    <tr>\n",
       "      <th>2</th>\n",
       "      <td>1.592323</td>\n",
       "      <td>0.886405</td>\n",
       "    </tr>\n",
       "  </tbody>\n",
       "</table>\n",
       "</div>"
      ],
      "text/plain": [
       "   Normal Traders  Prediction Traders\n",
       "0        0.000000            0.000000\n",
       "1       -4.517840           -3.812498\n",
       "2        1.592323            0.886405"
      ]
     },
     "execution_count": 7,
     "metadata": {},
     "output_type": "execute_result"
    }
   ],
   "source": [
    "profits[1]['profits'].head()"
   ]
  },
  {
   "cell_type": "code",
   "execution_count": 8,
   "metadata": {
    "collapsed": false,
    "deletable": true,
    "editable": true
   },
   "outputs": [
    {
     "data": {
      "text/html": [
       "<div>\n",
       "<table border=\"1\" class=\"dataframe\">\n",
       "  <thead>\n",
       "    <tr style=\"text-align: right;\">\n",
       "      <th></th>\n",
       "      <th>Normal Traders</th>\n",
       "      <th>Prediction Traders</th>\n",
       "    </tr>\n",
       "  </thead>\n",
       "  <tbody>\n",
       "    <tr>\n",
       "      <th>0</th>\n",
       "      <td>0.000000</td>\n",
       "      <td>0.000000</td>\n",
       "    </tr>\n",
       "    <tr>\n",
       "      <th>1</th>\n",
       "      <td>1.647463</td>\n",
       "      <td>-0.995701</td>\n",
       "    </tr>\n",
       "    <tr>\n",
       "      <th>2</th>\n",
       "      <td>19.360657</td>\n",
       "      <td>17.116753</td>\n",
       "    </tr>\n",
       "  </tbody>\n",
       "</table>\n",
       "</div>"
      ],
      "text/plain": [
       "   Normal Traders  Prediction Traders\n",
       "0        0.000000            0.000000\n",
       "1        1.647463           -0.995701\n",
       "2       19.360657           17.116753"
      ]
     },
     "execution_count": 8,
     "metadata": {},
     "output_type": "execute_result"
    }
   ],
   "source": [
    "profits[2]['profits'].head()"
   ]
  },
  {
   "cell_type": "code",
   "execution_count": null,
   "metadata": {
    "collapsed": true,
    "deletable": true,
    "editable": true
   },
   "outputs": [],
   "source": []
  }
 ],
 "metadata": {
  "kernelspec": {
   "display_name": "Python 2",
   "language": "python",
   "name": "python2"
  },
  "language_info": {
   "codemirror_mode": {
    "name": "ipython",
    "version": 2
   },
   "file_extension": ".py",
   "mimetype": "text/x-python",
   "name": "python",
   "nbconvert_exporter": "python",
   "pygments_lexer": "ipython2",
   "version": "2.7.13"
  }
 },
 "nbformat": 4,
 "nbformat_minor": 2
}
