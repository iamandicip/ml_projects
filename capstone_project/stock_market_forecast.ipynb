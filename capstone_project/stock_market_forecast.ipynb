{
 "cells": [
  {
   "cell_type": "code",
   "execution_count": 29,
   "metadata": {
    "collapsed": false,
    "deletable": true,
    "editable": true
   },
   "outputs": [],
   "source": [
    "import pandas as pd\n",
    "import datetime\n",
    "import numpy as np\n",
    "import matplotlib as plt\n",
    "import stock_utils as su\n",
    "import pylab as pl\n",
    "import seaborn as sns\n",
    "\n",
    "from sklearn.linear_model import Ridge, LinearRegression, SGDRegressor, ElasticNet, Lasso\n",
    "from sklearn.pipeline import Pipeline\n",
    "from sklearn.preprocessing import StandardScaler\n",
    "\n",
    "from sklearn.model_selection import GridSearchCV\n",
    "from sklearn.model_selection import train_test_split\n",
    "from sklearn.model_selection import cross_val_score\n",
    "from sklearn.model_selection import TimeSeriesSplit\n",
    "\n",
    "from sklearn.metrics import r2_score\n",
    "from sklearn.metrics import mean_squared_error\n",
    "\n",
    "from sklearn.mixture import GaussianMixture\n",
    "\n",
    "%matplotlib inline"
   ]
  },
  {
   "cell_type": "markdown",
   "metadata": {
    "deletable": true,
    "editable": true
   },
   "source": [
    "## Choose a ticker symbol and generate a dataset with selected new features for it"
   ]
  },
  {
   "cell_type": "code",
   "execution_count": 2,
   "metadata": {
    "collapsed": false,
    "deletable": true,
    "editable": true
   },
   "outputs": [
    {
     "data": {
      "text/html": [
       "<div>\n",
       "<table border=\"1\" class=\"dataframe\">\n",
       "  <thead>\n",
       "    <tr style=\"text-align: right;\">\n",
       "      <th></th>\n",
       "      <th>Open</th>\n",
       "      <th>High</th>\n",
       "      <th>Low</th>\n",
       "      <th>Close</th>\n",
       "      <th>Daily return</th>\n",
       "      <th>Rolling mean 5</th>\n",
       "      <th>Lower Bollinger band 5</th>\n",
       "      <th>Upper Bollinger band 5</th>\n",
       "      <th>Cummulative return 5</th>\n",
       "      <th>Future Price</th>\n",
       "    </tr>\n",
       "  </thead>\n",
       "  <tbody>\n",
       "    <tr>\n",
       "      <th>2016-01-06</th>\n",
       "      <td>100.56</td>\n",
       "      <td>102.37</td>\n",
       "      <td>99.87</td>\n",
       "      <td>100.70</td>\n",
       "      <td>-0.019570</td>\n",
       "      <td>103.892</td>\n",
       "      <td>108.130311</td>\n",
       "      <td>99.653689</td>\n",
       "      <td>-0.044139</td>\n",
       "      <td>96.45</td>\n",
       "    </tr>\n",
       "    <tr>\n",
       "      <th>2016-01-07</th>\n",
       "      <td>98.68</td>\n",
       "      <td>100.13</td>\n",
       "      <td>96.43</td>\n",
       "      <td>96.45</td>\n",
       "      <td>-0.042205</td>\n",
       "      <td>102.112</td>\n",
       "      <td>109.553699</td>\n",
       "      <td>94.670301</td>\n",
       "      <td>-0.084480</td>\n",
       "      <td>96.96</td>\n",
       "    </tr>\n",
       "    <tr>\n",
       "      <th>2016-01-08</th>\n",
       "      <td>98.55</td>\n",
       "      <td>99.11</td>\n",
       "      <td>96.76</td>\n",
       "      <td>96.96</td>\n",
       "      <td>0.005288</td>\n",
       "      <td>100.434</td>\n",
       "      <td>108.007567</td>\n",
       "      <td>92.860433</td>\n",
       "      <td>-0.079639</td>\n",
       "      <td>96.96</td>\n",
       "    </tr>\n",
       "    <tr>\n",
       "      <th>2016-01-09</th>\n",
       "      <td>98.55</td>\n",
       "      <td>99.11</td>\n",
       "      <td>96.76</td>\n",
       "      <td>96.96</td>\n",
       "      <td>0.000000</td>\n",
       "      <td>98.756</td>\n",
       "      <td>104.340095</td>\n",
       "      <td>93.171905</td>\n",
       "      <td>-0.079639</td>\n",
       "      <td>96.96</td>\n",
       "    </tr>\n",
       "    <tr>\n",
       "      <th>2016-01-10</th>\n",
       "      <td>98.55</td>\n",
       "      <td>99.11</td>\n",
       "      <td>96.76</td>\n",
       "      <td>96.96</td>\n",
       "      <td>0.000000</td>\n",
       "      <td>97.606</td>\n",
       "      <td>101.093280</td>\n",
       "      <td>94.118720</td>\n",
       "      <td>-0.055983</td>\n",
       "      <td>98.53</td>\n",
       "    </tr>\n",
       "  </tbody>\n",
       "</table>\n",
       "</div>"
      ],
      "text/plain": [
       "              Open    High    Low   Close  Daily return  Rolling mean 5  \\\n",
       "2016-01-06  100.56  102.37  99.87  100.70     -0.019570         103.892   \n",
       "2016-01-07   98.68  100.13  96.43   96.45     -0.042205         102.112   \n",
       "2016-01-08   98.55   99.11  96.76   96.96      0.005288         100.434   \n",
       "2016-01-09   98.55   99.11  96.76   96.96      0.000000          98.756   \n",
       "2016-01-10   98.55   99.11  96.76   96.96      0.000000          97.606   \n",
       "\n",
       "            Lower Bollinger band 5  Upper Bollinger band 5  \\\n",
       "2016-01-06              108.130311               99.653689   \n",
       "2016-01-07              109.553699               94.670301   \n",
       "2016-01-08              108.007567               92.860433   \n",
       "2016-01-09              104.340095               93.171905   \n",
       "2016-01-10              101.093280               94.118720   \n",
       "\n",
       "            Cummulative return 5  Future Price  \n",
       "2016-01-06             -0.044139         96.45  \n",
       "2016-01-07             -0.084480         96.96  \n",
       "2016-01-08             -0.079639         96.96  \n",
       "2016-01-09             -0.079639         96.96  \n",
       "2016-01-10             -0.055983         98.53  "
      ]
     },
     "execution_count": 2,
     "metadata": {},
     "output_type": "execute_result"
    }
   ],
   "source": [
    "#create a dataset for AAPL\n",
    "rs = 42 # random state\n",
    "tickers = ['AAPL', 'MSFT', 'GOOG']\n",
    "symbol = tickers[0]\n",
    "window = 5\n",
    "look_ahead = 1\n",
    "start_date = datetime.datetime(2016, 1, 1)\n",
    "end_date = datetime.datetime(2016, 12, 31)\n",
    "\n",
    "dataset = su.preprocess_data(symbol, window, look_ahead, start_date, end_date)\n",
    "\n",
    "data = dataset.drop(labels=['Future Price'], axis=1)\n",
    "target = dataset['Future Price']\n",
    "\n",
    "dataset.head()"
   ]
  },
  {
   "cell_type": "markdown",
   "metadata": {
    "deletable": true,
    "editable": true
   },
   "source": [
    "## Find hyperparameters for model"
   ]
  },
  {
   "cell_type": "code",
   "execution_count": 5,
   "metadata": {
    "collapsed": false,
    "deletable": true,
    "editable": true
   },
   "outputs": [],
   "source": [
    "def cross_val_splits(X, n_splits=5):\n",
    "    splits = TimeSeriesSplit(n_splits)\n",
    "    cv_splits = []\n",
    "\n",
    "    for train_index, test_index in splits.split(X):\n",
    "        cv_splits.append((train_index, test_index))\n",
    "\n",
    "    return cv_splits"
   ]
  },
  {
   "cell_type": "code",
   "execution_count": 4,
   "metadata": {
    "collapsed": false,
    "deletable": true,
    "editable": true
   },
   "outputs": [
    {
     "name": "stdout",
     "output_type": "stream",
     "text": [
      "\n",
      "Lasso: \n",
      "\n"
     ]
    },
    {
     "name": "stderr",
     "output_type": "stream",
     "text": [
      "/Users/ciprian/anaconda/envs/py27/lib/python2.7/site-packages/sklearn/linear_model/coordinate_descent.py:484: ConvergenceWarning: Objective did not converge. You might want to increase the number of iterations. Fitting data with very small alpha may cause precision problems.\n",
      "  ConvergenceWarning)\n"
     ]
    },
    {
     "name": "stdout",
     "output_type": "stream",
     "text": [
      "best parameters: {'reg__max_iter': 10000, 'reg__alpha': 1e-05}\n",
      "best score: 0.870653572838\n",
      "\n",
      "Ridge: \n",
      "\n",
      "best parameters: {'reg__alpha': 0.0001}\n",
      "best score: 0.870653691351\n",
      "\n",
      "ElasticNet: \n",
      "\n",
      "best parameters: {'reg__l1_ratio': 0.1, 'reg__alpha': 0.001}\n",
      "best score: 0.870715750694\n",
      "\n",
      "LinearRegression: \n",
      "\n",
      "best parameters: {}\n",
      "best score: 0.870653829683\n"
     ]
    }
   ],
   "source": [
    "lasso = Lasso(random_state=rs)\n",
    "lasso_params = {'reg__alpha' : [0.00001, 0.0001, 0.001, 0.01, 0.1], 'reg__max_iter' : [1000, 10000, 100000, 1000000]}\n",
    "\n",
    "ridge = Ridge(random_state=rs)\n",
    "ridge_params = {'reg__alpha' : [10, 1, 0.1, 0.01, 0.001, 0.0001]}\n",
    "\n",
    "elasticnet = ElasticNet(random_state=rs)\n",
    "elasticnet_params = {'reg__alpha' : [10, 1, 0.1, 0.001, 0.0001], 'reg__l1_ratio' : [0.1, 0.3, 0.5, 0.9]}\n",
    "\n",
    "lin_reg = LinearRegression()\n",
    "\n",
    "models_params = [(lasso, lasso_params), (ridge, ridge_params), (elasticnet, elasticnet_params), (lin_reg, {})]\n",
    "\n",
    "scores = []\n",
    "estimators = []\n",
    "\n",
    "for model, params in models_params:\n",
    "    class_name = model.__class__.__name__\n",
    "    \n",
    "    print (\"\\n{0}: \\n\".format(class_name))\n",
    "\n",
    "    steps = [('scaler', StandardScaler()), ('reg', model)]\n",
    "    pipe = Pipeline(steps)\n",
    "\n",
    "    cv_splits = cross_val_splits(data, n_splits = 5)\n",
    "    grid_search = GridSearchCV(pipe, params, cv = cv_splits)\n",
    "\n",
    "    grid_search.fit(data, target)\n",
    "\n",
    "    best_params = grid_search.best_params_\n",
    "    print('best parameters: {0}'.format(best_params))\n",
    "\n",
    "    best_score = grid_search.best_score_\n",
    "    print('best score: {0}'.format(best_score))\n",
    "    \n",
    "    scores.append(best_score)\n",
    "\n",
    "    best_estimator = grid_search.best_estimator_\n",
    "    estimators.append(best_estimator)"
   ]
  },
  {
   "cell_type": "markdown",
   "metadata": {
    "deletable": true,
    "editable": true
   },
   "source": [
    "## Generate training and testing datasets"
   ]
  },
  {
   "cell_type": "code",
   "execution_count": 5,
   "metadata": {
    "collapsed": false,
    "deletable": true,
    "editable": true
   },
   "outputs": [
    {
     "name": "stdout",
     "output_type": "stream",
     "text": [
      "Training set has 252 samples.\n",
      "Testing set has 108 samples.\n"
     ]
    }
   ],
   "source": [
    "data = dataset.drop(labels=['Future Price'], axis=1)\n",
    "target = dataset['Future Price']\n",
    "X_train, X_test, y_train, y_test = train_test_split(data, target, test_size=0.3, random_state=42)\n",
    "\n",
    "print ('Training set has {0} samples.'.format(X_train.shape[0]))\n",
    "print ('Testing set has {0} samples.'.format(X_test.shape[0]))"
   ]
  },
  {
   "cell_type": "code",
   "execution_count": 6,
   "metadata": {
    "collapsed": true,
    "deletable": true,
    "editable": true
   },
   "outputs": [],
   "source": [
    "def plot_predictions(title, y, y_hat):\n",
    "    pl.title(title)\n",
    "    pl.plot(y, y_hat, 'ro')\n",
    "    pl.plot([np.amin(y), np.amax(y)],[np.amin(y_hat), np.amax(y_hat)], 'g-')\n",
    "    pl.xlabel('Real values')\n",
    "    pl.ylabel('Predicted values')\n",
    "    pl.show()"
   ]
  },
  {
   "cell_type": "code",
   "execution_count": 9,
   "metadata": {
    "collapsed": true,
    "deletable": true,
    "editable": true
   },
   "outputs": [],
   "source": [
    "def print_cross_val_accuracy(est, X, y):\n",
    "    scores = cross_val_score(est, X, y)\n",
    "    print('cross validation accuracy: %0.2f (+/- %0.2f)' % (scores.mean(), scores.std() * 2))"
   ]
  },
  {
   "cell_type": "code",
   "execution_count": 10,
   "metadata": {
    "collapsed": false,
    "deletable": true,
    "editable": true
   },
   "outputs": [
    {
     "name": "stdout",
     "output_type": "stream",
     "text": [
      "\n",
      "Lasso: \n",
      "\n",
      "score for training set: 0.973930288765\n",
      "cross validation accuracy: 0.97 (+/- 0.01)\n",
      "score for test set: 0.978015156164\n",
      "cross validation accuracy: 0.98 (+/- 0.01)\n"
     ]
    },
    {
     "data": {
      "image/png": "[encoded data removed]",
      "text/plain": [
       "<matplotlib.figure.Figure at 0x11471bc10>"
      ]
     },
     "metadata": {},
     "output_type": "display_data"
    },
    {
     "name": "stdout",
     "output_type": "stream",
     "text": [
      "\n",
      "Ridge: \n",
      "\n",
      "score for training set: 0.973930290774\n",
      "cross validation accuracy: 0.97 (+/- 0.01)\n",
      "score for test set: 0.978009503534\n",
      "cross validation accuracy: 0.98 (+/- 0.01)\n"
     ]
    },
    {
     "data": {
      "image/png": "[encoded data removed]",
      "text/plain": [
       "<matplotlib.figure.Figure at 0x114725b10>"
      ]
     },
     "metadata": {},
     "output_type": "display_data"
    },
    {
     "name": "stdout",
     "output_type": "stream",
     "text": [
      "\n",
      "ElasticNet: \n",
      "\n",
      "score for training set: 0.973836403969\n",
      "cross validation accuracy: 0.97 (+/- 0.01)\n",
      "score for test set: 0.979156826147\n",
      "cross validation accuracy: 0.98 (+/- 0.01)\n"
     ]
    },
    {
     "data": {
      "image/png": "[encoded data removed]",
      "text/plain": [
       "<matplotlib.figure.Figure at 0x118a4aad0>"
      ]
     },
     "metadata": {},
     "output_type": "display_data"
    },
    {
     "name": "stdout",
     "output_type": "stream",
     "text": [
      "\n",
      "LinearRegression: \n",
      "\n",
      "score for training set: 0.973930290812\n",
      "cross validation accuracy: 0.97 (+/- 0.01)\n",
      "score for test set: 0.978008637172\n",
      "cross validation accuracy: 0.98 (+/- 0.01)\n"
     ]
    },
    {
     "data": {
      "image/png": "[encoded data removed]",
      "text/plain": [
       "<matplotlib.figure.Figure at 0x1178f06d0>"
      ]
     },
     "metadata": {},
     "output_type": "display_data"
    }
   ],
   "source": [
    "for reg in estimators:\n",
    "    class_name = reg.named_steps['reg'].__class__.__name__\n",
    "    \n",
    "    print (\"\\n{0}: \\n\".format(class_name))\n",
    "    \n",
    "    reg.fit(X_train, y_train)\n",
    "    \n",
    "    print('score for training set: {0}'.format(reg.score(X_train, y_train)))\n",
    "    \n",
    "    print_cross_val_accuracy(reg, X_train, y_train)\n",
    "\n",
    "    y_hat_test = reg.predict(X_test)\n",
    "    print('score for test set: {0}'.format(reg.score(X_test, y_test)))\n",
    "    \n",
    "    print_cross_val_accuracy(reg, X_test, y_test)\n",
    "    \n",
    "    plot_predictions(class_name, y_test, y_hat_test)"
   ]
  },
  {
   "cell_type": "markdown",
   "metadata": {
    "deletable": true,
    "editable": true
   },
   "source": [
    "## Generate a validation set and test the prediction accuracy"
   ]
  },
  {
   "cell_type": "code",
   "execution_count": 11,
   "metadata": {
    "collapsed": false,
    "deletable": true,
    "editable": true
   },
   "outputs": [
    {
     "data": {
      "text/html": [
       "<div>\n",
       "<table border=\"1\" class=\"dataframe\">\n",
       "  <thead>\n",
       "    <tr style=\"text-align: right;\">\n",
       "      <th></th>\n",
       "      <th>Open</th>\n",
       "      <th>High</th>\n",
       "      <th>Low</th>\n",
       "      <th>Close</th>\n",
       "      <th>Daily return</th>\n",
       "      <th>Rolling mean 5</th>\n",
       "      <th>Lower Bollinger band 5</th>\n",
       "      <th>Upper Bollinger band 5</th>\n",
       "      <th>Cummulative return 5</th>\n",
       "      <th>Future Price</th>\n",
       "    </tr>\n",
       "  </thead>\n",
       "  <tbody>\n",
       "    <tr>\n",
       "      <th>2017-01-06</th>\n",
       "      <td>116.78</td>\n",
       "      <td>118.16</td>\n",
       "      <td>116.47</td>\n",
       "      <td>117.91</td>\n",
       "      <td>0.011148</td>\n",
       "      <td>116.568</td>\n",
       "      <td>118.134040</td>\n",
       "      <td>115.001960</td>\n",
       "      <td>0.015153</td>\n",
       "      <td>117.91</td>\n",
       "    </tr>\n",
       "    <tr>\n",
       "      <th>2017-01-07</th>\n",
       "      <td>116.78</td>\n",
       "      <td>118.16</td>\n",
       "      <td>116.47</td>\n",
       "      <td>117.91</td>\n",
       "      <td>0.000000</td>\n",
       "      <td>116.920</td>\n",
       "      <td>118.779892</td>\n",
       "      <td>115.060108</td>\n",
       "      <td>0.015153</td>\n",
       "      <td>117.91</td>\n",
       "    </tr>\n",
       "    <tr>\n",
       "      <th>2017-01-08</th>\n",
       "      <td>116.78</td>\n",
       "      <td>118.16</td>\n",
       "      <td>116.47</td>\n",
       "      <td>117.91</td>\n",
       "      <td>0.000000</td>\n",
       "      <td>117.272</td>\n",
       "      <td>119.068352</td>\n",
       "      <td>115.475648</td>\n",
       "      <td>0.015153</td>\n",
       "      <td>118.99</td>\n",
       "    </tr>\n",
       "    <tr>\n",
       "      <th>2017-01-09</th>\n",
       "      <td>117.95</td>\n",
       "      <td>119.43</td>\n",
       "      <td>117.94</td>\n",
       "      <td>118.99</td>\n",
       "      <td>0.009160</td>\n",
       "      <td>117.866</td>\n",
       "      <td>119.553223</td>\n",
       "      <td>116.178777</td>\n",
       "      <td>0.025599</td>\n",
       "      <td>119.11</td>\n",
       "    </tr>\n",
       "    <tr>\n",
       "      <th>2017-01-10</th>\n",
       "      <td>118.77</td>\n",
       "      <td>119.38</td>\n",
       "      <td>118.30</td>\n",
       "      <td>119.11</td>\n",
       "      <td>0.001008</td>\n",
       "      <td>118.366</td>\n",
       "      <td>119.617687</td>\n",
       "      <td>117.114313</td>\n",
       "      <td>0.021439</td>\n",
       "      <td>119.75</td>\n",
       "    </tr>\n",
       "  </tbody>\n",
       "</table>\n",
       "</div>"
      ],
      "text/plain": [
       "              Open    High     Low   Close  Daily return  Rolling mean 5  \\\n",
       "2017-01-06  116.78  118.16  116.47  117.91      0.011148         116.568   \n",
       "2017-01-07  116.78  118.16  116.47  117.91      0.000000         116.920   \n",
       "2017-01-08  116.78  118.16  116.47  117.91      0.000000         117.272   \n",
       "2017-01-09  117.95  119.43  117.94  118.99      0.009160         117.866   \n",
       "2017-01-10  118.77  119.38  118.30  119.11      0.001008         118.366   \n",
       "\n",
       "            Lower Bollinger band 5  Upper Bollinger band 5  \\\n",
       "2017-01-06              118.134040              115.001960   \n",
       "2017-01-07              118.779892              115.060108   \n",
       "2017-01-08              119.068352              115.475648   \n",
       "2017-01-09              119.553223              116.178777   \n",
       "2017-01-10              119.617687              117.114313   \n",
       "\n",
       "            Cummulative return 5  Future Price  \n",
       "2017-01-06              0.015153        117.91  \n",
       "2017-01-07              0.015153        117.91  \n",
       "2017-01-08              0.015153        118.99  \n",
       "2017-01-09              0.025599        119.11  \n",
       "2017-01-10              0.021439        119.75  "
      ]
     },
     "execution_count": 11,
     "metadata": {},
     "output_type": "execute_result"
    }
   ],
   "source": [
    "symbol = tickers[0]\n",
    "window = 5\n",
    "look_ahead = 1\n",
    "valid_start_date = datetime.datetime(2017, 1, 1)\n",
    "valid_end_date = datetime.datetime(2017, 1, 31)\n",
    "\n",
    "valid_dataset = su.preprocess_data(symbol, window, look_ahead, valid_start_date, valid_end_date)\n",
    "\n",
    "valid_dataset.head()"
   ]
  },
  {
   "cell_type": "code",
   "execution_count": 14,
   "metadata": {
    "collapsed": false,
    "deletable": true,
    "editable": true,
    "scrolled": false
   },
   "outputs": [
    {
     "name": "stdout",
     "output_type": "stream",
     "text": [
      "\n",
      "Lasso: \n",
      "\n",
      "score for validation set: 0.749143716021\n"
     ]
    },
    {
     "data": {
      "image/png": "[encoded data removed]",
      "text/plain": [
       "<matplotlib.figure.Figure at 0x118ba92d0>"
      ]
     },
     "metadata": {},
     "output_type": "display_data"
    },
    {
     "name": "stdout",
     "output_type": "stream",
     "text": [
      "\n",
      "Ridge: \n",
      "\n",
      "score for validation set: 0.749168424235\n"
     ]
    },
    {
     "data": {
      "image/png": "[encoded data removed]",
      "text/plain": [
       "<matplotlib.figure.Figure at 0x118bc3f10>"
      ]
     },
     "metadata": {},
     "output_type": "display_data"
    },
    {
     "name": "stdout",
     "output_type": "stream",
     "text": [
      "\n",
      "ElasticNet: \n",
      "\n",
      "score for validation set: 0.747042967446\n"
     ]
    },
    {
     "data": {
      "image/png": "[encoded data removed]",
      "text/plain": [
       "<matplotlib.figure.Figure at 0x118bc3190>"
      ]
     },
     "metadata": {},
     "output_type": "display_data"
    },
    {
     "name": "stdout",
     "output_type": "stream",
     "text": [
      "\n",
      "LinearRegression: \n",
      "\n",
      "score for validation set: 0.74917050917\n"
     ]
    },
    {
     "data": {
      "image/png": "[encoded data removed]",
      "text/plain": [
       "<matplotlib.figure.Figure at 0x1144811d0>"
      ]
     },
     "metadata": {},
     "output_type": "display_data"
    },
    {
     "name": "stdout",
     "output_type": "stream",
     "text": [
      "\n",
      "r2 score for average predictions: 0.748915096839\n",
      "\n",
      "mean squared error for average predictions: 0.381693243748\n"
     ]
    },
    {
     "data": {
      "image/png": "[encoded data removed]",
      "text/plain": [
       "<matplotlib.figure.Figure at 0x11449a790>"
      ]
     },
     "metadata": {},
     "output_type": "display_data"
    }
   ],
   "source": [
    "validation_data = valid_dataset.drop(labels=['Future Price'], axis=1)\n",
    "validation_target = valid_dataset['Future Price']\n",
    "\n",
    "predictions = []\n",
    "\n",
    "for reg in estimators:\n",
    "    class_name = reg.named_steps['reg'].__class__.__name__\n",
    "    \n",
    "    print (\"\\n{0}: \\n\".format(class_name))\n",
    "    \n",
    "    validation_pred = reg.predict(validation_data)\n",
    "    \n",
    "    score = reg.score(validation_data, validation_target)\n",
    "    print('score for validation set: {0}'.format(score))\n",
    "    \n",
    "    predictions.append(validation_pred)\n",
    "    plot_predictions(class_name, validation_target, validation_pred)\n",
    "        \n",
    "average_predictions = np.zeros(validation_target.shape[0])\n",
    "\n",
    "for p in predictions:\n",
    "    average_predictions += p\n",
    "\n",
    "average_predictions /= len(predictions)\n",
    "    \n",
    "print('\\nr2 score for average predictions: {0}'.format(r2_score(validation_target, average_predictions)))\n",
    "print('\\nmean squared error for average predictions: {0}'.format(mean_squared_error(validation_target, average_predictions)))\n",
    "\n",
    "plot_predictions('Average predictions', validation_target, average_predictions)\n"
   ]
  },
  {
   "cell_type": "code",
   "execution_count": 15,
   "metadata": {
    "collapsed": false,
    "deletable": true,
    "editable": true
   },
   "outputs": [
    {
     "name": "stdout",
     "output_type": "stream",
     "text": [
      "Correct prediction percentage: 50.00\n"
     ]
    }
   ],
   "source": [
    "def up_or_down(x):\n",
    "    diff = np.roll(x, -1) - x\n",
    "    ud = [1 if v > 0 else 0 for v in diff]\n",
    "    return np.array(ud[:-1])\n",
    "\n",
    "ud_real = up_or_down(validation_target.values)\n",
    "ud_predicted = up_or_down(average_predictions)\n",
    "\n",
    "t = np.vstack((ud_real, ud_predicted))\n",
    "total_predictions = ud_real.shape[0]\n",
    "correct_predictions = len(np.where(t[0] == t[1])[0])\n",
    "\n",
    "print('Correct prediction percentage: {0:.2f}'.format((float(correct_predictions) / total_predictions) * 100))"
   ]
  },
  {
   "cell_type": "markdown",
   "metadata": {
    "collapsed": true,
    "deletable": true,
    "editable": true
   },
   "source": [
    "## Identify the market trends using unsupervised learning"
   ]
  },
  {
   "cell_type": "code",
   "execution_count": 90,
   "metadata": {
    "collapsed": false
   },
   "outputs": [
    {
     "data": {
      "text/html": [
       "<div>\n",
       "<table border=\"1\" class=\"dataframe\">\n",
       "  <thead>\n",
       "    <tr style=\"text-align: right;\">\n",
       "      <th></th>\n",
       "      <th>Open</th>\n",
       "      <th>High</th>\n",
       "      <th>Low</th>\n",
       "      <th>Close</th>\n",
       "    </tr>\n",
       "  </thead>\n",
       "  <tbody>\n",
       "    <tr>\n",
       "      <th>2016-09-21</th>\n",
       "      <td>214.24</td>\n",
       "      <td>216.03</td>\n",
       "      <td>213.44</td>\n",
       "      <td>215.82</td>\n",
       "    </tr>\n",
       "    <tr>\n",
       "      <th>2016-09-22</th>\n",
       "      <td>217.00</td>\n",
       "      <td>217.53</td>\n",
       "      <td>216.71</td>\n",
       "      <td>217.18</td>\n",
       "    </tr>\n",
       "    <tr>\n",
       "      <th>2016-09-23</th>\n",
       "      <td>216.72</td>\n",
       "      <td>216.88</td>\n",
       "      <td>215.88</td>\n",
       "      <td>215.99</td>\n",
       "    </tr>\n",
       "    <tr>\n",
       "      <th>2016-09-24</th>\n",
       "      <td>216.72</td>\n",
       "      <td>216.88</td>\n",
       "      <td>215.88</td>\n",
       "      <td>215.99</td>\n",
       "    </tr>\n",
       "    <tr>\n",
       "      <th>2016-09-25</th>\n",
       "      <td>216.72</td>\n",
       "      <td>216.88</td>\n",
       "      <td>215.88</td>\n",
       "      <td>215.99</td>\n",
       "    </tr>\n",
       "  </tbody>\n",
       "</table>\n",
       "</div>"
      ],
      "text/plain": [
       "              Open    High     Low   Close\n",
       "2016-09-21  214.24  216.03  213.44  215.82\n",
       "2016-09-22  217.00  217.53  216.71  217.18\n",
       "2016-09-23  216.72  216.88  215.88  215.99\n",
       "2016-09-24  216.72  216.88  215.88  215.99\n",
       "2016-09-25  216.72  216.88  215.88  215.99"
      ]
     },
     "execution_count": 90,
     "metadata": {},
     "output_type": "execute_result"
    }
   ],
   "source": [
    "rs = 42 # random state\n",
    "symbol = 'SPY'\n",
    "window = 5\n",
    "look_ahead = 1\n",
    "start_date = datetime.datetime(2016, 9, 16)\n",
    "end_date = datetime.datetime(2017, 7, 31)\n",
    "\n",
    "all_dataset = su.preprocess_data(symbol, window, look_ahead, start_date, end_date)\n",
    "\n",
    "dataset = all_dataset.drop(labels=['Future Price', 'Daily return', 'Rolling mean {0}'.format(window), \\\n",
    "                            'Lower Bollinger band {0}'.format(window),\\\n",
    "                           'Upper Bollinger band {0}'.format(window),\\\n",
    "                           'Cummulative return {0}'.format(window)], axis=1)\n",
    "target = all_dataset['Future Price']\n",
    "\n",
    "dataset.head()"
   ]
  },
  {
   "cell_type": "code",
   "execution_count": 91,
   "metadata": {
    "collapsed": false
   },
   "outputs": [
    {
     "name": "stdout",
     "output_type": "stream",
     "text": [
      "best parameters: {'max_iter': 100, 'covariance_type': 'full', 'n_components': 2}\n",
      "Number of regimes identified: 2\n"
     ]
    }
   ],
   "source": [
    "mix = GaussianMixture(random_state=rs)\n",
    "mix_params = {'n_components' : [2, 3, 4, 5, 6], \\\n",
    "              'covariance_type' : ['full', 'tied', 'diag', 'spherical'], \\\n",
    "              'max_iter' : [100, 1000, 10000]\n",
    "             }\n",
    "\n",
    "cv_splits = cross_val_splits(dataset, n_splits = 5)\n",
    "\n",
    "grid_search = GridSearchCV(mix, mix_params, cv = cv_splits)\n",
    "\n",
    "grid_search.fit(dataset, target)\n",
    "\n",
    "best_params = grid_search.best_params_\n",
    "print('best parameters: {0}'.format(best_params))\n",
    "\n",
    "regimes_number = best_params['n_components']\n",
    "print('Number of regimes identified: {0}'.format(regimes_number))\n",
    "\n",
    "best_mix = grid_search.best_estimator_"
   ]
  },
  {
   "cell_type": "code",
   "execution_count": 92,
   "metadata": {
    "collapsed": false
   },
   "outputs": [
    {
     "data": {
      "text/html": [
       "<div>\n",
       "<table border=\"1\" class=\"dataframe\">\n",
       "  <thead>\n",
       "    <tr style=\"text-align: right;\">\n",
       "      <th></th>\n",
       "      <th>Regime</th>\n",
       "      <th>Open</th>\n",
       "      <th>High</th>\n",
       "      <th>Low</th>\n",
       "      <th>Close</th>\n",
       "      <th>Future Price</th>\n",
       "      <th>Return</th>\n",
       "      <th>market_cu_return</th>\n",
       "      <th>Date</th>\n",
       "    </tr>\n",
       "  </thead>\n",
       "  <tbody>\n",
       "    <tr>\n",
       "      <th>2016-09-21</th>\n",
       "      <td>0</td>\n",
       "      <td>214.24</td>\n",
       "      <td>216.03</td>\n",
       "      <td>213.44</td>\n",
       "      <td>215.82</td>\n",
       "      <td>217.18</td>\n",
       "      <td>0.006282</td>\n",
       "      <td>0.006282</td>\n",
       "      <td>2016-09-21</td>\n",
       "    </tr>\n",
       "    <tr>\n",
       "      <th>2016-09-22</th>\n",
       "      <td>0</td>\n",
       "      <td>217.00</td>\n",
       "      <td>217.53</td>\n",
       "      <td>216.71</td>\n",
       "      <td>217.18</td>\n",
       "      <td>215.99</td>\n",
       "      <td>-0.005494</td>\n",
       "      <td>0.000787</td>\n",
       "      <td>2016-09-22</td>\n",
       "    </tr>\n",
       "    <tr>\n",
       "      <th>2016-09-23</th>\n",
       "      <td>0</td>\n",
       "      <td>216.72</td>\n",
       "      <td>216.88</td>\n",
       "      <td>215.88</td>\n",
       "      <td>215.99</td>\n",
       "      <td>215.99</td>\n",
       "      <td>0.000000</td>\n",
       "      <td>0.000787</td>\n",
       "      <td>2016-09-23</td>\n",
       "    </tr>\n",
       "    <tr>\n",
       "      <th>2016-09-24</th>\n",
       "      <td>0</td>\n",
       "      <td>216.72</td>\n",
       "      <td>216.88</td>\n",
       "      <td>215.88</td>\n",
       "      <td>215.99</td>\n",
       "      <td>215.99</td>\n",
       "      <td>0.000000</td>\n",
       "      <td>0.000787</td>\n",
       "      <td>2016-09-24</td>\n",
       "    </tr>\n",
       "    <tr>\n",
       "      <th>2016-09-25</th>\n",
       "      <td>0</td>\n",
       "      <td>216.72</td>\n",
       "      <td>216.88</td>\n",
       "      <td>215.88</td>\n",
       "      <td>215.99</td>\n",
       "      <td>214.24</td>\n",
       "      <td>-0.008135</td>\n",
       "      <td>-0.007348</td>\n",
       "      <td>2016-09-25</td>\n",
       "    </tr>\n",
       "  </tbody>\n",
       "</table>\n",
       "</div>"
      ],
      "text/plain": [
       "            Regime    Open    High     Low   Close  Future Price    Return  \\\n",
       "2016-09-21       0  214.24  216.03  213.44  215.82        217.18  0.006282   \n",
       "2016-09-22       0  217.00  217.53  216.71  217.18        215.99 -0.005494   \n",
       "2016-09-23       0  216.72  216.88  215.88  215.99        215.99  0.000000   \n",
       "2016-09-24       0  216.72  216.88  215.88  215.99        215.99  0.000000   \n",
       "2016-09-25       0  216.72  216.88  215.88  215.99        214.24 -0.008135   \n",
       "\n",
       "            market_cu_return       Date  \n",
       "2016-09-21          0.006282 2016-09-21  \n",
       "2016-09-22          0.000787 2016-09-22  \n",
       "2016-09-23          0.000787 2016-09-23  \n",
       "2016-09-24          0.000787 2016-09-24  \n",
       "2016-09-25         -0.007348 2016-09-25  "
      ]
     },
     "execution_count": 92,
     "metadata": {},
     "output_type": "execute_result"
    }
   ],
   "source": [
    "best_mix.fit(data)\n",
    "regime = best_mix.predict(data)\n",
    "\n",
    "regimes = pd.DataFrame(regime, columns = ['Regime'], index = dataset.index)\n",
    "dataset = dataset.join(target)\n",
    "dataset['Return'] = np.log(dataset['Future Price'] / dataset['Close'])\n",
    "\n",
    "regimes = regimes.join(dataset)\n",
    "regimes = regimes.assign(market_cu_return=regimes.Return.cumsum())\n",
    "regimes['Date'] = regimes.index\n",
    "regimes.head()"
   ]
  },
  {
   "cell_type": "code",
   "execution_count": 93,
   "metadata": {
    "collapsed": false
   },
   "outputs": [
    {
     "data": {
      "image/png": "[encoded data removed]",
      "text/plain": [
       "<matplotlib.figure.Figure at 0x1155cdad0>"
      ]
     },
     "metadata": {},
     "output_type": "display_data"
    }
   ],
   "source": [
    "order = np.arange(0, regimes_number)\n",
    "fig = sns.FacetGrid(data=regimes, hue='Regime', hue_order=order, aspect=2, size=10)\n",
    "fig.map(plt.pyplot.scatter, 'Date', 'market_cu_return', s=2).add_legend()\n",
    "plt.pyplot.show()"
   ]
  },
  {
   "cell_type": "code",
   "execution_count": 94,
   "metadata": {
    "collapsed": false
   },
   "outputs": [
    {
     "name": "stdout",
     "output_type": "stream",
     "text": [
      "Mean for regime 0: 221.522505256\n",
      "Co-variance for regime 0: [[ 44.13818055  43.728261    45.0242817   44.94130695]\n",
      " [ 43.728261    43.68458795  44.78969186  44.98330546]\n",
      " [ 45.0242817   44.78969186  46.30902458  46.25558006]\n",
      " [ 44.94130695  44.98330546  46.25558006  46.54101097]]\n",
      "Mean for regime 1: 239.370553697\n",
      "Co-variance for regime 1: [[ 18.34595279  17.80618725  18.39983366  18.38201934]\n",
      " [ 17.80618725  17.50170062  17.99967301  18.09281578]\n",
      " [ 18.39983366  17.99967301  18.87439631  18.84696198]\n",
      " [ 18.38201934  18.09281578  18.84696198  19.06107417]]\n"
     ]
    }
   ],
   "source": [
    "for i in order:\n",
    "    print('Mean for regime {0}: {1}'.format(i, best_mix.means_[i][0]))\n",
    "    print('Co-variance for regime {0}: {1}'.format(i, best_mix.covariances_[i]))\n",
    "    "
   ]
  },
  {
   "cell_type": "code",
   "execution_count": null,
   "metadata": {
    "collapsed": true
   },
   "outputs": [],
   "source": []
  }
 ],
 "metadata": {
  "kernelspec": {
   "display_name": "Python 2",
   "language": "python",
   "name": "python2"
  },
  "language_info": {
   "codemirror_mode": {
    "name": "ipython",
    "version": 2
   },
   "file_extension": ".py",
   "mimetype": "text/x-python",
   "name": "python",
   "nbconvert_exporter": "python",
   "pygments_lexer": "ipython2",
   "version": "2.7.13"
  }
 },
 "nbformat": 4,
 "nbformat_minor": 2
}
