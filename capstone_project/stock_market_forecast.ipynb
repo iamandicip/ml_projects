{
 "cells": [
  {
   "cell_type": "code",
   "execution_count": 6,
   "metadata": {
    "collapsed": false,
    "deletable": true,
    "editable": true
   },
   "outputs": [],
   "source": [
    "import pandas as pd\n",
    "import datetime\n",
    "import numpy as np\n",
    "import matplotlib as plt\n",
    "import stock_utils as su\n",
    "import pylab as pl\n",
    "\n",
    "from sklearn.linear_model import Ridge, LinearRegression, SGDRegressor, ElasticNet, Lasso\n",
    "from sklearn.preprocessing import StandardScaler\n",
    "from sklearn.model_selection import GridSearchCV\n",
    "from sklearn.ensemble import GradientBoostingRegressor, AdaBoostRegressor, RandomForestRegressor\n",
    "from sklearn.pipeline import Pipeline\n",
    "from sklearn.preprocessing import StandardScaler\n",
    "\n",
    "from sklearn.model_selection import train_test_split\n",
    "from sklearn.model_selection import cross_val_score\n",
    "from sklearn.model_selection import TimeSeriesSplit\n",
    "from sklearn.metrics import r2_score\n",
    "from sklearn.metrics import mean_squared_error\n",
    "\n",
    "%matplotlib inline"
   ]
  },
  {
   "cell_type": "markdown",
   "metadata": {
    "deletable": true,
    "editable": true
   },
   "source": [
    "## Choose a ticker symbol and generate a dataset with selected new features for it"
   ]
  },
  {
   "cell_type": "code",
   "execution_count": 27,
   "metadata": {
    "collapsed": false,
    "deletable": true,
    "editable": true
   },
   "outputs": [
    {
     "data": {
      "text/html": [
       "<div>\n",
       "<table border=\"1\" class=\"dataframe\">\n",
       "  <thead>\n",
       "    <tr style=\"text-align: right;\">\n",
       "      <th></th>\n",
       "      <th>Open</th>\n",
       "      <th>High</th>\n",
       "      <th>Low</th>\n",
       "      <th>Close</th>\n",
       "      <th>Daily return</th>\n",
       "      <th>Rolling mean 5</th>\n",
       "      <th>Lower Bollinger band 5</th>\n",
       "      <th>Upper Bollinger band 5</th>\n",
       "      <th>Cummulative return 5</th>\n",
       "      <th>Future Price</th>\n",
       "    </tr>\n",
       "  </thead>\n",
       "  <tbody>\n",
       "    <tr>\n",
       "      <th>2016-01-06</th>\n",
       "      <td>100.56</td>\n",
       "      <td>102.37</td>\n",
       "      <td>99.87</td>\n",
       "      <td>100.70</td>\n",
       "      <td>-0.019570</td>\n",
       "      <td>103.892</td>\n",
       "      <td>108.130311</td>\n",
       "      <td>99.653689</td>\n",
       "      <td>-0.044139</td>\n",
       "      <td>96.45</td>\n",
       "    </tr>\n",
       "    <tr>\n",
       "      <th>2016-01-07</th>\n",
       "      <td>98.68</td>\n",
       "      <td>100.13</td>\n",
       "      <td>96.43</td>\n",
       "      <td>96.45</td>\n",
       "      <td>-0.042205</td>\n",
       "      <td>102.112</td>\n",
       "      <td>109.553699</td>\n",
       "      <td>94.670301</td>\n",
       "      <td>-0.084480</td>\n",
       "      <td>96.96</td>\n",
       "    </tr>\n",
       "    <tr>\n",
       "      <th>2016-01-08</th>\n",
       "      <td>98.55</td>\n",
       "      <td>99.11</td>\n",
       "      <td>96.76</td>\n",
       "      <td>96.96</td>\n",
       "      <td>0.005288</td>\n",
       "      <td>100.434</td>\n",
       "      <td>108.007567</td>\n",
       "      <td>92.860433</td>\n",
       "      <td>-0.079639</td>\n",
       "      <td>96.96</td>\n",
       "    </tr>\n",
       "    <tr>\n",
       "      <th>2016-01-09</th>\n",
       "      <td>98.55</td>\n",
       "      <td>99.11</td>\n",
       "      <td>96.76</td>\n",
       "      <td>96.96</td>\n",
       "      <td>0.000000</td>\n",
       "      <td>98.756</td>\n",
       "      <td>104.340095</td>\n",
       "      <td>93.171905</td>\n",
       "      <td>-0.079639</td>\n",
       "      <td>96.96</td>\n",
       "    </tr>\n",
       "    <tr>\n",
       "      <th>2016-01-10</th>\n",
       "      <td>98.55</td>\n",
       "      <td>99.11</td>\n",
       "      <td>96.76</td>\n",
       "      <td>96.96</td>\n",
       "      <td>0.000000</td>\n",
       "      <td>97.606</td>\n",
       "      <td>101.093280</td>\n",
       "      <td>94.118720</td>\n",
       "      <td>-0.055983</td>\n",
       "      <td>98.53</td>\n",
       "    </tr>\n",
       "  </tbody>\n",
       "</table>\n",
       "</div>"
      ],
      "text/plain": [
       "              Open    High    Low   Close  Daily return  Rolling mean 5  \\\n",
       "2016-01-06  100.56  102.37  99.87  100.70     -0.019570         103.892   \n",
       "2016-01-07   98.68  100.13  96.43   96.45     -0.042205         102.112   \n",
       "2016-01-08   98.55   99.11  96.76   96.96      0.005288         100.434   \n",
       "2016-01-09   98.55   99.11  96.76   96.96      0.000000          98.756   \n",
       "2016-01-10   98.55   99.11  96.76   96.96      0.000000          97.606   \n",
       "\n",
       "            Lower Bollinger band 5  Upper Bollinger band 5  \\\n",
       "2016-01-06              108.130311               99.653689   \n",
       "2016-01-07              109.553699               94.670301   \n",
       "2016-01-08              108.007567               92.860433   \n",
       "2016-01-09              104.340095               93.171905   \n",
       "2016-01-10              101.093280               94.118720   \n",
       "\n",
       "            Cummulative return 5  Future Price  \n",
       "2016-01-06             -0.044139         96.45  \n",
       "2016-01-07             -0.084480         96.96  \n",
       "2016-01-08             -0.079639         96.96  \n",
       "2016-01-09             -0.079639         96.96  \n",
       "2016-01-10             -0.055983         98.53  "
      ]
     },
     "execution_count": 27,
     "metadata": {},
     "output_type": "execute_result"
    }
   ],
   "source": [
    "#create a dataset for AAPL\n",
    "rs = 42 # random state\n",
    "tickers = ['AAPL', 'MSFT', 'GOOG']\n",
    "symbol = tickers[0]\n",
    "window = 5\n",
    "look_ahead = 1\n",
    "start_date = datetime.datetime(2016, 1, 1)\n",
    "end_date = datetime.datetime(2016, 12, 31)\n",
    "\n",
    "dataset = su.preprocess_data(symbol, window, look_ahead, start_date, end_date)\n",
    "\n",
    "data = dataset.drop(labels=['Future Price'], axis=1)\n",
    "target = dataset['Future Price']\n",
    "\n",
    "dataset.head()"
   ]
  },
  {
   "cell_type": "markdown",
   "metadata": {},
   "source": [
    "## Find hyperparameters for model"
   ]
  },
  {
   "cell_type": "code",
   "execution_count": 19,
   "metadata": {
    "collapsed": false
   },
   "outputs": [],
   "source": [
    "def cross_val_splits(X, n_splits=5):\n",
    "    splits = TimeSeriesSplit(n_splits)\n",
    "    cv_splits = []\n",
    "\n",
    "    for train_index, test_index in splits.split(X):\n",
    "        cv_splits.append((train_index, test_index))\n",
    "\n",
    "    return cv_splits"
   ]
  },
  {
   "cell_type": "code",
   "execution_count": 31,
   "metadata": {
    "collapsed": false
   },
   "outputs": [
    {
     "name": "stdout",
     "output_type": "stream",
     "text": [
      "\n",
      "Lasso: \n",
      "\n",
      "best parameters: {'reg__max_iter': 10000, 'reg__alpha': 1e-05}\n",
      "best score: 0.870653572838\n",
      "\n",
      "Ridge: \n",
      "\n",
      "best parameters: {'reg__alpha': 0.0001}\n",
      "best score: 0.870653691351\n",
      "\n",
      "ElasticNet: \n",
      "\n",
      "best parameters: {'reg__l1_ratio': 0.1, 'reg__alpha': 0.001}\n",
      "best score: 0.870715750694\n",
      "\n",
      "LinearRegression: \n",
      "\n",
      "best parameters: {}\n",
      "best score: 0.870653829683\n"
     ]
    }
   ],
   "source": [
    "lasso = Lasso(random_state=rs)\n",
    "lasso_params = {'reg__alpha' : [0.00001, 0.0001, 0.001, 0.01, 0.1], 'reg__max_iter' : [1000, 10000, 100000, 1000000]}\n",
    "\n",
    "ridge = Ridge(random_state=rs)\n",
    "ridge_params = {'reg__alpha' : [10, 1, 0.1, 0.01, 0.001, 0.0001]}\n",
    "\n",
    "elasticnet = ElasticNet(random_state=rs)\n",
    "elasticnet_params = {'reg__alpha' : [10, 1, 0.1, 0.001, 0.0001], 'reg__l1_ratio' : [0.1, 0.3, 0.5, 0.9]}\n",
    "\n",
    "lin_reg = LinearRegression()\n",
    "\n",
    "models_params = [(lasso, lasso_params), (ridge, ridge_params), (elasticnet, elasticnet_params), (lin_reg, {})]\n",
    "\n",
    "scores = []\n",
    "estimators = []\n",
    "\n",
    "for model, params in models_params:\n",
    "    class_name = model.__class__.__name__\n",
    "    \n",
    "    print (\"\\n{0}: \\n\".format(class_name))\n",
    "\n",
    "    steps = [('scaler', StandardScaler()), ('reg', model)]\n",
    "    pipe = Pipeline(steps)\n",
    "\n",
    "    cv_splits = cross_val_splits(data, n_splits = 5)\n",
    "    grid_search = GridSearchCV(pipe, params, cv = cv_splits)\n",
    "\n",
    "    grid_search.fit(data, target)\n",
    "\n",
    "    best_params = grid_search.best_params_\n",
    "    print('best parameters: {0}'.format(best_params))\n",
    "\n",
    "    best_score = grid_search.best_score_\n",
    "    print('best score: {0}'.format(best_score))\n",
    "    \n",
    "    scores.append(best_score)\n",
    "\n",
    "    best_estimator = grid_search.best_estimator_\n",
    "    estimators.append(best_estimator)"
   ]
  },
  {
   "cell_type": "markdown",
   "metadata": {
    "deletable": true,
    "editable": true
   },
   "source": [
    "## Generate training and testing datasets"
   ]
  },
  {
   "cell_type": "code",
   "execution_count": 149,
   "metadata": {
    "collapsed": false,
    "deletable": true,
    "editable": true
   },
   "outputs": [
    {
     "name": "stdout",
     "output_type": "stream",
     "text": [
      "Training set has 252 samples.\n",
      "Testing set has 108 samples.\n"
     ]
    }
   ],
   "source": [
    "data = dataset.drop(labels=['UpDown', 'Future Price'], axis=1)\n",
    "target = dataset['Future Price']\n",
    "X_train, X_test, y_train, y_test = train_test_split(data, target, test_size=0.3, random_state=42)\n",
    "\n",
    "print ('Training set has {0} samples.'.format(X_train.shape[0]))\n",
    "print ('Testing set has {0} samples.'.format(X_test.shape[0]))"
   ]
  },
  {
   "cell_type": "code",
   "execution_count": 150,
   "metadata": {
    "collapsed": true,
    "deletable": true,
    "editable": true
   },
   "outputs": [],
   "source": [
    "def plot_predictions(title, y, y_hat):\n",
    "    pl.title(title)\n",
    "    pl.plot(y, y_hat, 'ro')\n",
    "    pl.plot([np.amin(y), np.amax(y)],[np.amin(y_hat), np.amax(y_hat)], 'g-')\n",
    "    pl.xlabel('Real values')\n",
    "    pl.ylabel('Predicted values')\n",
    "    pl.show()"
   ]
  },
  {
   "cell_type": "code",
   "execution_count": 151,
   "metadata": {
    "collapsed": true,
    "deletable": true,
    "editable": true
   },
   "outputs": [],
   "source": [
    "def print_cross_val_accuracy(est, X, y):\n",
    "    scores = cross_val_score(pip, X, y)\n",
    "    print('cross validation accuracy: %0.2f (+/- %0.2f)' % (scores.mean(), scores.std() * 2))"
   ]
  },
  {
   "cell_type": "code",
   "execution_count": 152,
   "metadata": {
    "collapsed": false,
    "deletable": true,
    "editable": true
   },
   "outputs": [
    {
     "name": "stdout",
     "output_type": "stream",
     "text": [
      "\n",
      "RandomForestRegressor: \n",
      "\n",
      "score for training set: 0.994028919171\n",
      "cross validation accuracy: 0.93 (+/- 0.01)\n",
      "score for test set: 0.969286588262\n",
      "cross validation accuracy: 0.97 (+/- 0.02)\n"
     ]
    },
    {
     "data": {
      "image/png": "[encoded data removed]",
      "text/plain": [
       "<matplotlib.figure.Figure at 0x11821a150>"
      ]
     },
     "metadata": {},
     "output_type": "display_data"
    },
    {
     "name": "stdout",
     "output_type": "stream",
     "text": [
      "\n",
      "LinearRegression: \n",
      "\n",
      "score for training set: 0.972232941585\n",
      "cross validation accuracy: 0.93 (+/- 0.01)\n",
      "score for test set: 0.979368878657\n",
      "cross validation accuracy: 0.97 (+/- 0.02)\n"
     ]
    },
    {
     "data": {
      "image/png": "[encoded data removed]",
      "text/plain": [
       "<matplotlib.figure.Figure at 0x11cbb6990>"
      ]
     },
     "metadata": {},
     "output_type": "display_data"
    },
    {
     "name": "stdout",
     "output_type": "stream",
     "text": [
      "\n",
      "Ridge: \n",
      "\n",
      "score for training set: 0.969245747272\n",
      "cross validation accuracy: 0.93 (+/- 0.01)\n",
      "score for test set: 0.979311213843\n",
      "cross validation accuracy: 0.97 (+/- 0.02)\n"
     ]
    },
    {
     "data": {
      "image/png": "[encoded data removed]",
      "text/plain": [
       "<matplotlib.figure.Figure at 0x11bcea210>"
      ]
     },
     "metadata": {},
     "output_type": "display_data"
    },
    {
     "name": "stdout",
     "output_type": "stream",
     "text": [
      "\n",
      "ElasticNet: \n",
      "\n",
      "score for training set: 0.90351319373\n",
      "cross validation accuracy: 0.93 (+/- 0.01)\n",
      "score for test set: 0.918517834133\n",
      "cross validation accuracy: 0.97 (+/- 0.02)\n"
     ]
    },
    {
     "data": {
      "image/png": "[encoded data removed]",
      "text/plain": [
       "<matplotlib.figure.Figure at 0x118863710>"
      ]
     },
     "metadata": {},
     "output_type": "display_data"
    }
   ],
   "source": [
    "#random state\n",
    "rs = 42\n",
    "\n",
    "reg_A = Pipeline([('scaler', StandardScaler()), ('reg', RandomForestRegressor())])\n",
    "\n",
    "reg_B = Pipeline([('scaler', StandardScaler()), ('reg', LinearRegression(normalize = True))])\n",
    "\n",
    "reg_C = Pipeline([('scaler', StandardScaler()), ('reg', Ridge (alpha = 0.01, random_state = rs, normalize = True))])\n",
    "# reg_C_params = {'alpha' : [1, 0.1, 0.01], 'tol' : [0.1, 0.01, 0.001]}\n",
    " \n",
    "reg_D = Pipeline([('scaler', StandardScaler()), ('reg', ElasticNet(alpha = 0.01, random_state = rs, normalize = True))])\n",
    "# reg_D_params = {'alpha' : [1, 0.1, 0.001], 'l1_ratio' : [0.3, 0.5, 0.8]}\n",
    "\n",
    "# params = {reg_C.__class__.__name__ : reg_C_params, reg_D.__class__.__name__ : reg_D_params}\n",
    "\n",
    "for reg in [reg_A, reg_B, reg_C, reg_D]:\n",
    "    class_name = reg.named_steps['reg'].__class__.__name__\n",
    "    \n",
    "    print (\"\\n{0}: \\n\".format(class_name))\n",
    "    \n",
    "    reg.fit(X_train, y_train)\n",
    "    \n",
    "    print('score for training set: {0}'.format(reg.score(X_train, y_train)))\n",
    "    \n",
    "    print_cross_val_accuracy(reg, X_train, y_train)\n",
    "\n",
    "    y_hat_test = reg.predict(X_test)\n",
    "    print('score for test set: {0}'.format(reg.score(X_test, y_test)))\n",
    "    \n",
    "    print_cross_val_accuracy(reg, X_test, y_test)\n",
    "    \n",
    "    plot_predictions(class_name, y_test, y_hat_test)"
   ]
  },
  {
   "cell_type": "markdown",
   "metadata": {
    "deletable": true,
    "editable": true
   },
   "source": [
    "## Generate a validation set and test the prediction accuracy"
   ]
  },
  {
   "cell_type": "code",
   "execution_count": 153,
   "metadata": {
    "collapsed": false,
    "deletable": true,
    "editable": true
   },
   "outputs": [
    {
     "data": {
      "text/html": [
       "<div>\n",
       "<table border=\"1\" class=\"dataframe\">\n",
       "  <thead>\n",
       "    <tr style=\"text-align: right;\">\n",
       "      <th></th>\n",
       "      <th>Close</th>\n",
       "      <th>Daily return</th>\n",
       "      <th>Rolling mean 5</th>\n",
       "      <th>Lower Bollinger band 5</th>\n",
       "      <th>Upper Bollinger band 5</th>\n",
       "      <th>Cummulative return 5</th>\n",
       "      <th>Future Price</th>\n",
       "      <th>UpDown</th>\n",
       "    </tr>\n",
       "  </thead>\n",
       "  <tbody>\n",
       "    <tr>\n",
       "      <th>2017-01-06</th>\n",
       "      <td>117.91</td>\n",
       "      <td>0.011148</td>\n",
       "      <td>116.568</td>\n",
       "      <td>118.134040</td>\n",
       "      <td>115.001960</td>\n",
       "      <td>0.015153</td>\n",
       "      <td>117.91</td>\n",
       "      <td>1</td>\n",
       "    </tr>\n",
       "    <tr>\n",
       "      <th>2017-01-07</th>\n",
       "      <td>117.91</td>\n",
       "      <td>0.000000</td>\n",
       "      <td>116.920</td>\n",
       "      <td>118.779892</td>\n",
       "      <td>115.060108</td>\n",
       "      <td>0.015153</td>\n",
       "      <td>117.91</td>\n",
       "      <td>1</td>\n",
       "    </tr>\n",
       "    <tr>\n",
       "      <th>2017-01-08</th>\n",
       "      <td>117.91</td>\n",
       "      <td>0.000000</td>\n",
       "      <td>117.272</td>\n",
       "      <td>119.068352</td>\n",
       "      <td>115.475648</td>\n",
       "      <td>0.015153</td>\n",
       "      <td>118.99</td>\n",
       "      <td>1</td>\n",
       "    </tr>\n",
       "    <tr>\n",
       "      <th>2017-01-09</th>\n",
       "      <td>118.99</td>\n",
       "      <td>0.009160</td>\n",
       "      <td>117.866</td>\n",
       "      <td>119.553223</td>\n",
       "      <td>116.178777</td>\n",
       "      <td>0.025599</td>\n",
       "      <td>119.11</td>\n",
       "      <td>1</td>\n",
       "    </tr>\n",
       "    <tr>\n",
       "      <th>2017-01-10</th>\n",
       "      <td>119.11</td>\n",
       "      <td>0.001008</td>\n",
       "      <td>118.366</td>\n",
       "      <td>119.617687</td>\n",
       "      <td>117.114313</td>\n",
       "      <td>0.021439</td>\n",
       "      <td>119.75</td>\n",
       "      <td>1</td>\n",
       "    </tr>\n",
       "  </tbody>\n",
       "</table>\n",
       "</div>"
      ],
      "text/plain": [
       "             Close  Daily return  Rolling mean 5  Lower Bollinger band 5  \\\n",
       "2017-01-06  117.91      0.011148         116.568              118.134040   \n",
       "2017-01-07  117.91      0.000000         116.920              118.779892   \n",
       "2017-01-08  117.91      0.000000         117.272              119.068352   \n",
       "2017-01-09  118.99      0.009160         117.866              119.553223   \n",
       "2017-01-10  119.11      0.001008         118.366              119.617687   \n",
       "\n",
       "            Upper Bollinger band 5  Cummulative return 5  Future Price  UpDown  \n",
       "2017-01-06              115.001960              0.015153        117.91       1  \n",
       "2017-01-07              115.060108              0.015153        117.91       1  \n",
       "2017-01-08              115.475648              0.015153        118.99       1  \n",
       "2017-01-09              116.178777              0.025599        119.11       1  \n",
       "2017-01-10              117.114313              0.021439        119.75       1  "
      ]
     },
     "execution_count": 153,
     "metadata": {},
     "output_type": "execute_result"
    }
   ],
   "source": [
    "symbol = tickers[0]\n",
    "window = 5\n",
    "look_ahead = 1\n",
    "valid_start_date = datetime.datetime(2017, 1, 1)\n",
    "valid_end_date = datetime.datetime(2017, 1, 31)\n",
    "\n",
    "valid_dataset = su.preprocess_data(symbol, window, look_ahead, valid_start_date, valid_end_date)\n",
    "\n",
    "valid_dataset.head()"
   ]
  },
  {
   "cell_type": "code",
   "execution_count": 154,
   "metadata": {
    "collapsed": false,
    "deletable": true,
    "editable": true
   },
   "outputs": [
    {
     "name": "stdout",
     "output_type": "stream",
     "text": [
      "\n",
      "RandomForestRegressor: \n",
      "\n",
      "score for validation set: -10.5058000389\n",
      "\n",
      "LinearRegression: \n",
      "\n",
      "score for validation set: 0.770353750816\n",
      "\n",
      "Ridge: \n",
      "\n",
      "score for validation set: 0.7206867068\n",
      "\n",
      "ElasticNet: \n",
      "\n",
      "score for validation set: -10.9251949873\n",
      "\n",
      "r2 score for average predictions: 0.770353750816\n"
     ]
    },
    {
     "data": {
      "image/png": "[encoded data removed]",
      "text/plain": [
       "<matplotlib.figure.Figure at 0x11d42a4d0>"
      ]
     },
     "metadata": {},
     "output_type": "display_data"
    }
   ],
   "source": [
    "validation_data = valid_dataset.drop(labels=['Future Price'], axis=1)\n",
    "validation_target = valid_dataset['Future Price']\n",
    "\n",
    "predictions = []\n",
    "\n",
    "for reg in [reg_A, reg_B, reg_C, reg_D]:\n",
    "    class_name = reg.named_steps['reg'].__class__.__name__\n",
    "    \n",
    "    print (\"\\n{0}: \\n\".format(class_name))\n",
    "    \n",
    "    validation_pred = reg.predict(validation_data)\n",
    "    \n",
    "    score = reg.score(validation_data, validation_target)\n",
    "    print('score for validation set: {0}'.format(score))\n",
    "    \n",
    "    #we want to keep only usable predictions\n",
    "    if score > 0.75:\n",
    "        predictions.append(validation_pred)\n",
    "#         plot_predictions(class_name, validation_target, validation_pred)\n",
    "        \n",
    "average_predictions = np.zeros(validation_target.shape[0])\n",
    "\n",
    "for p in predictions:\n",
    "    average_predictions += p\n",
    "\n",
    "average_predictions /= len(predictions)\n",
    "    \n",
    "print('\\nr2 score for average predictions: {0}'.format(r2_score(validation_target, average_predictions)))\n",
    "# print('\\nmean squared error for average predictions: {0}'.format(mean_squared_error(validation_target, average_predictions)))\n",
    "\n",
    "plot_predictions('Average predictions', validation_target, average_predictions)\n"
   ]
  },
  {
   "cell_type": "code",
   "execution_count": 147,
   "metadata": {
    "collapsed": false,
    "deletable": true,
    "editable": true
   },
   "outputs": [
    {
     "name": "stdout",
     "output_type": "stream",
     "text": [
      "Correct prediction percentage: 62.50\n"
     ]
    }
   ],
   "source": [
    "def up_or_down(x):\n",
    "    diff = np.roll(x, -1) - x\n",
    "    ud = [1 if v > 0 else 0 for v in diff]\n",
    "    return np.array(ud[:-1])\n",
    "\n",
    "ud_real = up_or_down(validation_target.values)\n",
    "ud_predicted = up_or_down(average_predictions)\n",
    "\n",
    "t = np.vstack((ud_real, ud_predicted))\n",
    "total_predictions = ud_real.shape[0]\n",
    "correct_predictions = len(np.where(t[0] == t[1])[0])\n",
    "\n",
    "print('Correct prediction percentage: {0:.2f}'.format((float(correct_predictions) / total_predictions) * 100))"
   ]
  },
  {
   "cell_type": "code",
   "execution_count": null,
   "metadata": {
    "collapsed": true,
    "deletable": true,
    "editable": true
   },
   "outputs": [],
   "source": []
  }
 ],
 "metadata": {
  "kernelspec": {
   "display_name": "Python 2",
   "language": "python",
   "name": "python2"
  },
  "language_info": {
   "codemirror_mode": {
    "name": "ipython",
    "version": 2
   },
   "file_extension": ".py",
   "mimetype": "text/x-python",
   "name": "python",
   "nbconvert_exporter": "python",
   "pygments_lexer": "ipython2",
   "version": "2.7.13"
  }
 },
 "nbformat": 4,
 "nbformat_minor": 2
}
